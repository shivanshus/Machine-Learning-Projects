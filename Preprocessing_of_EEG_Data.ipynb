{
  "nbformat": 4,
  "nbformat_minor": 0,
  "metadata": {
    "anaconda-cloud": {},
    "kernelspec": {
      "name": "python3",
      "display_name": "Python 3"
    },
    "colab": {
      "name": "Preprocessing of EEG Data.ipynb",
      "provenance": [],
      "collapsed_sections": [
        "wyjeYVVh0IOc",
        "F1jc5J8W0SSL",
        "-MCZy66qyJHO",
        "8flT3CiP0s8c",
        "pTRYyVTDGp9o"
      ],
      "include_colab_link": true
    },
    "accelerator": "TPU"
  },
  "cells": [
    {
      "cell_type": "markdown",
      "metadata": {
        "id": "view-in-github",
        "colab_type": "text"
      },
      "source": [
        "<a href=\"https://colab.research.google.com/github/shivanshus/Machine-Learning-Projects/blob/main/Preprocessing_of_EEG_Data.ipynb\" target=\"_parent\"><img src=\"https://colab.research.google.com/assets/colab-badge.svg\" alt=\"Open In Colab\"/></a>"
      ]
    },
    {
      "cell_type": "markdown",
      "metadata": {
        "id": "EPFXbB28sroh"
      },
      "source": [
        "# EEG Data Analysis\n",
        "\n",
        "\n",
        "We will be using the Python MNE library. "
      ]
    },
    {
      "cell_type": "markdown",
      "metadata": {
        "id": "wyjeYVVh0IOc"
      },
      "source": [
        "## Importing the Python MNE library and other data science libraries."
      ]
    },
    {
      "cell_type": "code",
      "metadata": {
        "id": "sPU9FVRDujxw",
        "colab": {
          "base_uri": "https://localhost:8080/"
        },
        "outputId": "a159dc3a-15bd-4e9d-ff29-9ce258868c27"
      },
      "source": [
        "!pip install mne"
      ],
      "execution_count": 1,
      "outputs": [
        {
          "output_type": "stream",
          "text": [
            "Collecting mne\n",
            "\u001b[?25l  Downloading https://files.pythonhosted.org/packages/17/a8/7d8a10345082d4807907a268016b52dfa869b0c412cd84aa1d1de86e1e39/mne-0.22.0-py3-none-any.whl (6.9MB)\n",
            "\u001b[K     |████████████████████████████████| 6.9MB 6.4MB/s \n",
            "\u001b[?25hRequirement already satisfied: scipy>=0.17.1 in /usr/local/lib/python3.6/dist-packages (from mne) (1.4.1)\n",
            "Requirement already satisfied: numpy>=1.11.3 in /usr/local/lib/python3.6/dist-packages (from mne) (1.19.5)\n",
            "Installing collected packages: mne\n",
            "Successfully installed mne-0.22.0\n"
          ],
          "name": "stdout"
        }
      ]
    },
    {
      "cell_type": "code",
      "metadata": {
        "id": "9ben-fCHsroi"
      },
      "source": [
        "# Import the required libraries\n",
        "\n",
        "import mne\n",
        "import numpy as np\n",
        "import matplotlib.pyplot as plt\n",
        "%matplotlib inline  "
      ],
      "execution_count": 2,
      "outputs": []
    },
    {
      "cell_type": "code",
      "metadata": {
        "id": "GKJnuez3tSH1",
        "colab": {
          "base_uri": "https://localhost:8080/"
        },
        "outputId": "ad927945-4dc9-4976-addf-b96510fd5f3d"
      },
      "source": [
        "from google.colab import drive\n",
        "drive.mount('/content/drive')"
      ],
      "execution_count": 3,
      "outputs": [
        {
          "output_type": "stream",
          "text": [
            "Mounted at /content/drive\n"
          ],
          "name": "stdout"
        }
      ]
    },
    {
      "cell_type": "code",
      "metadata": {
        "id": "kHB_vw_L6x5c",
        "colab": {
          "base_uri": "https://localhost:8080/"
        },
        "outputId": "8a03e5f9-79bf-41de-c35c-c90b3d5fee28"
      },
      "source": [
        "path = '/content/drive/My Drive/raw_eeg_med_1.bdf'\n",
        "print(path)"
      ],
      "execution_count": 154,
      "outputs": [
        {
          "output_type": "stream",
          "text": [
            "/content/drive/My Drive/raw_eeg_med_1.bdf\n"
          ],
          "name": "stdout"
        }
      ]
    },
    {
      "cell_type": "markdown",
      "metadata": {
        "id": "dRPQYz4usror"
      },
      "source": [
        "## Read the data in .bdf format into a variable for further computations. "
      ]
    },
    {
      "cell_type": "code",
      "metadata": {
        "id": "OMouyLsssros",
        "colab": {
          "base_uri": "https://localhost:8080/"
        },
        "outputId": "92243461-5264-47b8-a56b-2af70bf8c9dd"
      },
      "source": [
        "#reading the data file in the variable 'raw'\n",
        "\n",
        "raw_data = mne.io.read_raw_bdf(path, preload=True) "
      ],
      "execution_count": 155,
      "outputs": [
        {
          "output_type": "stream",
          "text": [
            "Extracting EDF parameters from /content/drive/My Drive/raw_eeg_med_1.bdf...\n",
            "BDF file detected\n",
            "Setting channel info structure...\n",
            "Creating raw.info structure...\n",
            "Reading 0 ... 696575  =      0.000 ...  2720.996 secs...\n"
          ],
          "name": "stdout"
        }
      ]
    },
    {
      "cell_type": "markdown",
      "metadata": {
        "id": "T1VD9sdrbMDg"
      },
      "source": [
        "## Information about the EEG data."
      ]
    },
    {
      "cell_type": "code",
      "metadata": {
        "id": "-IUJ8Nf9a2nM",
        "colab": {
          "base_uri": "https://localhost:8080/"
        },
        "outputId": "498e3201-4959-4ad7-bbe3-d486b95907e2"
      },
      "source": [
        "# Information about the data \n",
        "\n",
        "print('\\n','--- Data Information ---','\\n')\n",
        "raw_data.info"
      ],
      "execution_count": 156,
      "outputs": [
        {
          "output_type": "stream",
          "text": [
            "\n",
            " --- Data Information --- \n",
            "\n"
          ],
          "name": "stdout"
        },
        {
          "output_type": "execute_result",
          "data": {
            "text/plain": [
              "<Info | 7 non-empty values\n",
              " bads: []\n",
              " ch_names: A1, A2, A3, A4, A5, A6, A7, A8, A9, A10, A11, A12, A13, A14, ...\n",
              " chs: 79 EEG, 1 STIM\n",
              " custom_ref_applied: False\n",
              " highpass: 0.0 Hz\n",
              " lowpass: 52.0 Hz\n",
              " meas_date: 2014-04-04 19:40:17 UTC\n",
              " nchan: 80\n",
              " projs: []\n",
              " sfreq: 256.0 Hz\n",
              ">"
            ]
          },
          "metadata": {
            "tags": []
          },
          "execution_count": 156
        }
      ]
    },
    {
      "cell_type": "code",
      "metadata": {
        "id": "RJJGX41LX4jK",
        "colab": {
          "base_uri": "https://localhost:8080/"
        },
        "outputId": "1d477e5b-338a-4764-c95c-f568f306b94f"
      },
      "source": [
        "# Returns : (num of channels, num of recordings)\n",
        "\n",
        "raw_data.get_data().shape "
      ],
      "execution_count": 157,
      "outputs": [
        {
          "output_type": "execute_result",
          "data": {
            "text/plain": [
              "(80, 696576)"
            ]
          },
          "metadata": {
            "tags": []
          },
          "execution_count": 157
        }
      ]
    },
    {
      "cell_type": "code",
      "metadata": {
        "id": "PVmP5UwMX4nj",
        "colab": {
          "base_uri": "https://localhost:8080/"
        },
        "outputId": "4238f292-76fb-4df0-c575-4195658bc9ef"
      },
      "source": [
        "raw_data.get_data()"
      ],
      "execution_count": 158,
      "outputs": [
        {
          "output_type": "execute_result",
          "data": {
            "text/plain": [
              "array([[-4.04094566e-03, -4.04088316e-03, -4.04938314e-03, ...,\n",
              "         1.11120107e-03,  1.11291982e-03,  1.11588856e-03],\n",
              "       [-1.02229655e-02, -1.02261530e-02, -1.02329342e-02, ...,\n",
              "        -3.73182123e-03, -3.73219623e-03, -3.72860249e-03],\n",
              "       [-1.43506766e-02, -1.43499266e-02, -1.43538329e-02, ...,\n",
              "        -8.82346807e-03, -8.82224932e-03, -8.82315557e-03],\n",
              "       ...,\n",
              "       [-4.05300505e+00, -4.05299626e+00, -4.05298210e+00, ...,\n",
              "        -4.05221844e+00, -4.05222088e+00, -4.05221844e+00],\n",
              "       [-5.00499994e-01, -5.00499994e-01, -5.00499994e-01, ...,\n",
              "        -5.00499994e-01, -5.00499994e-01, -5.00499994e-01],\n",
              "       [ 6.55360000e+04,  6.55360000e+04,  6.55360000e+04, ...,\n",
              "         0.00000000e+00,  0.00000000e+00,  0.00000000e+00]])"
            ]
          },
          "metadata": {
            "tags": []
          },
          "execution_count": 158
        }
      ]
    },
    {
      "cell_type": "markdown",
      "metadata": {
        "id": "HhDp5lQmb7j5"
      },
      "source": [
        "### With the user warning, we get an indication that channels GSR2 and Temp could be Bad channels."
      ]
    },
    {
      "cell_type": "markdown",
      "metadata": {
        "id": "4FGCNgvqeFh7"
      },
      "source": [
        "## Removing bad channels and Interpolation."
      ]
    },
    {
      "cell_type": "code",
      "metadata": {
        "id": "1_hoF3I8HO0F",
        "colab": {
          "base_uri": "https://localhost:8080/",
          "height": 373
        },
        "outputId": "f26dcd72-57c4-45c0-b93d-75fdc12b1a66"
      },
      "source": [
        "# Plotting the data.\n",
        "\n",
        "plt.figure(figsize=(50,45))\n",
        "raw_data.plot(n_channels=80)\n",
        "plt.show()"
      ],
      "execution_count": 159,
      "outputs": [
        {
          "output_type": "display_data",
          "data": {
            "text/plain": [
              "<Figure size 3600x3240 with 0 Axes>"
            ]
          },
          "metadata": {
            "tags": []
          }
        },
        {
          "output_type": "stream",
          "text": [
            "/usr/local/lib/python3.6/dist-packages/matplotlib/colors.py:263: VisibleDeprecationWarning: Creating an ndarray from ragged nested sequences (which is a list-or-tuple of lists-or-tuples-or ndarrays with different lengths or shapes) is deprecated. If you meant to do this, you must specify 'dtype=object' when creating the ndarray\n",
            "  c = np.array(c)\n"
          ],
          "name": "stderr"
        },
        {
          "output_type": "display_data",
          "data": {
            "image/png": "[encoded data removed]",
            "text/plain": [
              "<MNEBrowseFigure size 432x288 with 4 Axes>"
            ]
          },
          "metadata": {
            "tags": [],
            "needs_background": "light"
          }
        }
      ]
    },
    {
      "cell_type": "code",
      "metadata": {
        "id": "ttm1-AFng1MK"
      },
      "source": [
        "#raw_data.info['bads'] += ['A1','A2','A4','A5','A6','A7','A8','A9','A15','A16','A17']"
      ],
      "execution_count": 160,
      "outputs": []
    },
    {
      "cell_type": "code",
      "metadata": {
        "id": "fIUJLDYuh3Oj"
      },
      "source": [
        "#picks = mne.pick_types(raw_data.info, exclude='bads')"
      ],
      "execution_count": 161,
      "outputs": []
    },
    {
      "cell_type": "markdown",
      "metadata": {
        "id": "X1QvuwsWjkgN"
      },
      "source": [
        "### Since removing the bad channels is always not a right option to go with, we interpolate the bad channels instead to avoid any loss of useful information."
      ]
    },
    {
      "cell_type": "code",
      "metadata": {
        "id": "0YqtdaR3rPa3"
      },
      "source": [
        "channel_names = raw_data.ch_names\n",
        "#channel_names.remove('A1')\n",
        "#channel_names.remove('A2')\n",
        "channel_types = []\n",
        "for i in range(len(channel_names)):\n",
        "  channel_types.append('eeg')"
      ],
      "execution_count": 162,
      "outputs": []
    },
    {
      "cell_type": "code",
      "metadata": {
        "id": "FY44F2ierkc6",
        "colab": {
          "base_uri": "https://localhost:8080/"
        },
        "outputId": "78fc2ef5-a39e-4848-81e0-defa678fc73e"
      },
      "source": [
        "print(channel_names)\n",
        "print(channel_types)\n",
        "assert len(channel_names)==len(channel_types)"
      ],
      "execution_count": 163,
      "outputs": [
        {
          "output_type": "stream",
          "text": [
            "['A1', 'A2', 'A3', 'A4', 'A5', 'A6', 'A7', 'A8', 'A9', 'A10', 'A11', 'A12', 'A13', 'A14', 'A15', 'A16', 'A17', 'A18', 'A19', 'A20', 'A21', 'A22', 'A23', 'A24', 'A25', 'A26', 'A27', 'A28', 'A29', 'A30', 'A31', 'A32', 'B1', 'B2', 'B3', 'B4', 'B5', 'B6', 'B7', 'B8', 'B9', 'B10', 'B11', 'B12', 'B13', 'B14', 'B15', 'B16', 'B17', 'B18', 'B19', 'B20', 'B21', 'B22', 'B23', 'B24', 'B25', 'B26', 'B27', 'B28', 'B29', 'B30', 'B31', 'B32', 'EXG1', 'EXG2', 'EXG3', 'EXG4', 'EXG5', 'EXG6', 'EXG7', 'EXG8', 'GSR1', 'GSR2', 'Erg1', 'Erg2', 'Resp', 'Plet', 'Temp', 'Status']\n",
            "['eeg', 'eeg', 'eeg', 'eeg', 'eeg', 'eeg', 'eeg', 'eeg', 'eeg', 'eeg', 'eeg', 'eeg', 'eeg', 'eeg', 'eeg', 'eeg', 'eeg', 'eeg', 'eeg', 'eeg', 'eeg', 'eeg', 'eeg', 'eeg', 'eeg', 'eeg', 'eeg', 'eeg', 'eeg', 'eeg', 'eeg', 'eeg', 'eeg', 'eeg', 'eeg', 'eeg', 'eeg', 'eeg', 'eeg', 'eeg', 'eeg', 'eeg', 'eeg', 'eeg', 'eeg', 'eeg', 'eeg', 'eeg', 'eeg', 'eeg', 'eeg', 'eeg', 'eeg', 'eeg', 'eeg', 'eeg', 'eeg', 'eeg', 'eeg', 'eeg', 'eeg', 'eeg', 'eeg', 'eeg', 'eeg', 'eeg', 'eeg', 'eeg', 'eeg', 'eeg', 'eeg', 'eeg', 'eeg', 'eeg', 'eeg', 'eeg', 'eeg', 'eeg', 'eeg', 'eeg']\n"
          ],
          "name": "stdout"
        }
      ]
    },
    {
      "cell_type": "code",
      "metadata": {
        "id": "R15jiTPMr3Fo",
        "colab": {
          "base_uri": "https://localhost:8080/"
        },
        "outputId": "ea2baa79-47ae-4bd8-cd6d-044f8d65531f"
      },
      "source": [
        "info = mne.create_info(ch_names=channel_names, sfreq=256, ch_types=channel_types)\n",
        "raw_data.info = info\n",
        "print(raw_data.info)"
      ],
      "execution_count": 164,
      "outputs": [
        {
          "output_type": "stream",
          "text": [
            "<Info | 7 non-empty values\n",
            " bads: []\n",
            " ch_names: A1, A2, A3, A4, A5, A6, A7, A8, A9, A10, A11, A12, A13, A14, ...\n",
            " chs: 80 EEG\n",
            " custom_ref_applied: False\n",
            " highpass: 0.0 Hz\n",
            " lowpass: 128.0 Hz\n",
            " meas_date: unspecified\n",
            " nchan: 80\n",
            " projs: []\n",
            " sfreq: 256.0 Hz\n",
            ">\n"
          ],
          "name": "stdout"
        }
      ]
    },
    {
      "cell_type": "code",
      "metadata": {
        "id": "2EI71iZbr3Ct",
        "colab": {
          "base_uri": "https://localhost:8080/"
        },
        "outputId": "2b93c7fb-e9ec-4f09-d4e9-802241793ace"
      },
      "source": [
        "montage_kind = \"standard_1020\"\n",
        "montage =  mne.channels.make_standard_montage(montage_kind)\n",
        "raw_data.set_montage(montage, match_case=True, on_missing='ignore')\n",
        "print(raw_data.info['dig'])"
      ],
      "execution_count": 165,
      "outputs": [
        {
          "output_type": "stream",
          "text": [
            "[<DigPoint |        LPA : (-82.5, -0.0, 0.0) mm     : head frame>, <DigPoint |     Nasion : (0.0, 102.7, 0.0) mm      : head frame>, <DigPoint |        RPA : (82.2, 0.0, 0.0) mm       : head frame>, <DigPoint |    EEG #93 : (-82.5, -6.2, -18.8) mm   : head frame>, <DigPoint |    EEG #94 : (82.2, -6.2, -18.8) mm    : head frame>]\n"
          ],
          "name": "stdout"
        }
      ]
    },
    {
      "cell_type": "code",
      "metadata": {
        "id": "15QENELUnL2i",
        "colab": {
          "base_uri": "https://localhost:8080/"
        },
        "outputId": "6138e9c4-fad5-43fa-9ea8-84e0c2e48c13"
      },
      "source": [
        "eeg_data = raw_data.copy().pick_types(meg=False, eeg=True, exclude=[])\n",
        "eeg_data_interp = eeg_data.copy().interpolate_bads(reset_bads=False)"
      ],
      "execution_count": 166,
      "outputs": [
        {
          "output_type": "stream",
          "text": [
            "<ipython-input-166-f6b154aaf114>:2: RuntimeWarning: No bad channels to interpolate. Doing nothing...\n",
            "  eeg_data_interp = eeg_data.copy().interpolate_bads(reset_bads=False)\n"
          ],
          "name": "stderr"
        }
      ]
    },
    {
      "cell_type": "code",
      "metadata": {
        "id": "jbYzF3NbhiGX",
        "colab": {
          "base_uri": "https://localhost:8080/",
          "height": 354
        },
        "outputId": "d9361f95-d91f-4f49-f86b-2f47195c7fdd"
      },
      "source": [
        "raw_data.plot()\n",
        "plt.show()"
      ],
      "execution_count": 167,
      "outputs": [
        {
          "output_type": "stream",
          "text": [
            "/usr/local/lib/python3.6/dist-packages/matplotlib/colors.py:263: VisibleDeprecationWarning: Creating an ndarray from ragged nested sequences (which is a list-or-tuple of lists-or-tuples-or ndarrays with different lengths or shapes) is deprecated. If you meant to do this, you must specify 'dtype=object' when creating the ndarray\n",
            "  c = np.array(c)\n"
          ],
          "name": "stderr"
        },
        {
          "output_type": "display_data",
          "data": {
            "image/png": "[encoded data removed]",
            "text/plain": [
              "<MNEBrowseFigure size 432x288 with 4 Axes>"
            ]
          },
          "metadata": {
            "tags": [],
            "needs_background": "light"
          }
        }
      ]
    },
    {
      "cell_type": "markdown",
      "metadata": {
        "id": "5luTR_-4wpz9"
      },
      "source": [
        "## Filtering certain frequencies from the data using filters like low pass, high pass, band pass and notch filters."
      ]
    },
    {
      "cell_type": "code",
      "metadata": {
        "id": "vD111H0ChiDM",
        "colab": {
          "base_uri": "https://localhost:8080/",
          "height": 335
        },
        "outputId": "47f8772c-2e72-44cc-c2ad-0997d28989f5"
      },
      "source": [
        "eeg_data_interp.plot_psd(tmin=0, tmax=60, fmin=0, fmax=52, average=True, spatial_colors=False);"
      ],
      "execution_count": 168,
      "outputs": [
        {
          "output_type": "stream",
          "text": [
            "Effective window size : 8.000 (s)\n"
          ],
          "name": "stdout"
        },
        {
          "output_type": "stream",
          "text": [
            "<ipython-input-168-aeccedb32bbb>:1: UserWarning: Infinite value in PSD for channels GSR2, Temp.\n",
            "These channels might be dead.\n",
            "  eeg_data_interp.plot_psd(tmin=0, tmax=60, fmin=0, fmax=52, average=True, spatial_colors=False);\n"
          ],
          "name": "stderr"
        },
        {
          "output_type": "display_data",
          "data": {
            "image/png": "[encoded data removed]",
            "text/plain": [
              "<MNELineFigure size 720x252 with 1 Axes>"
            ]
          },
          "metadata": {
            "tags": [],
            "needs_background": "light"
          }
        }
      ]
    },
    {
      "cell_type": "code",
      "metadata": {
        "id": "Hq4185ICHOv6",
        "colab": {
          "base_uri": "https://localhost:8080/"
        },
        "outputId": "720d2c60-370c-4e27-b366-4ca078df71df"
      },
      "source": [
        "# only keeping frequencies between 4-8 Hz for analysis the theta eeg rhythms\n",
        "\n",
        "eeg_data_interp.filter(l_freq=4, h_freq=8) "
      ],
      "execution_count": 169,
      "outputs": [
        {
          "output_type": "stream",
          "text": [
            "Filtering raw data in 1 contiguous segment\n",
            "Setting up band-pass filter from 4 - 8 Hz\n",
            "\n",
            "FIR filter parameters\n",
            "---------------------\n",
            "Designing a one-pass, zero-phase, non-causal bandpass filter:\n",
            "- Windowed time-domain design (firwin) method\n",
            "- Hamming window with 0.0194 passband ripple and 53 dB stopband attenuation\n",
            "- Lower passband edge: 4.00\n",
            "- Lower transition bandwidth: 2.00 Hz (-6 dB cutoff frequency: 3.00 Hz)\n",
            "- Upper passband edge: 8.00 Hz\n",
            "- Upper transition bandwidth: 2.00 Hz (-6 dB cutoff frequency: 9.00 Hz)\n",
            "- Filter length: 423 samples (1.652 sec)\n",
            "\n"
          ],
          "name": "stdout"
        },
        {
          "output_type": "execute_result",
          "data": {
            "text/plain": [
              "<RawEDF | raw_eeg_med_1.bdf, 80 x 696576 (2721.0 s), ~425.2 MB, data loaded>"
            ]
          },
          "metadata": {
            "tags": []
          },
          "execution_count": 169
        }
      ]
    },
    {
      "cell_type": "code",
      "metadata": {
        "id": "uUmCZ3jJHOug",
        "colab": {
          "base_uri": "https://localhost:8080/",
          "height": 285
        },
        "outputId": "b56a0a20-223d-41d7-a79f-89d32704e39b"
      },
      "source": [
        "eeg_data_interp.plot_psd(tmin=0, tmax=60, fmin=0, fmax=10, average=True, spatial_colors=False);"
      ],
      "execution_count": 170,
      "outputs": [
        {
          "output_type": "stream",
          "text": [
            "Effective window size : 8.000 (s)\n"
          ],
          "name": "stdout"
        },
        {
          "output_type": "display_data",
          "data": {
            "image/png": "[encoded data removed]",
            "text/plain": [
              "<MNELineFigure size 720x252 with 1 Axes>"
            ]
          },
          "metadata": {
            "tags": [],
            "needs_background": "light"
          }
        }
      ]
    },
    {
      "cell_type": "markdown",
      "metadata": {
        "id": "PEM4lyFzzA-S"
      },
      "source": [
        "## Downsampling of the data."
      ]
    },
    {
      "cell_type": "code",
      "metadata": {
        "colab": {
          "base_uri": "https://localhost:8080/"
        },
        "id": "6yC8h0dMeesE",
        "outputId": "8f32bd07-226a-4347-d838-305f44fcd645"
      },
      "source": [
        "eeg_data_interp.info"
      ],
      "execution_count": 171,
      "outputs": [
        {
          "output_type": "execute_result",
          "data": {
            "text/plain": [
              "<Info | 8 non-empty values\n",
              " bads: []\n",
              " ch_names: A1, A2, A3, A4, A5, A6, A7, A8, A9, A10, A11, A12, A13, A14, ...\n",
              " chs: 80 EEG\n",
              " custom_ref_applied: False\n",
              " dig: 5 items (3 Cardinal, 2 EEG)\n",
              " highpass: 4.0 Hz\n",
              " lowpass: 8.0 Hz\n",
              " meas_date: unspecified\n",
              " nchan: 80\n",
              " projs: []\n",
              " sfreq: 256.0 Hz\n",
              ">"
            ]
          },
          "metadata": {
            "tags": []
          },
          "execution_count": 171
        }
      ]
    },
    {
      "cell_type": "code",
      "metadata": {
        "id": "HblBr3CfIET8"
      },
      "source": [
        "# Downsamping to 128 Hz\n",
        "\n",
        "eeg_data_resampled = eeg_data_interp.copy().resample(sfreq=128, npad='auto')"
      ],
      "execution_count": 172,
      "outputs": []
    },
    {
      "cell_type": "code",
      "metadata": {
        "colab": {
          "base_uri": "https://localhost:8080/"
        },
        "id": "8vc7rq6weCUh",
        "outputId": "8f476c9e-728e-4414-f871-8f17a2dd5fab"
      },
      "source": [
        "eeg_data_resampled.info"
      ],
      "execution_count": 173,
      "outputs": [
        {
          "output_type": "execute_result",
          "data": {
            "text/plain": [
              "<Info | 8 non-empty values\n",
              " bads: []\n",
              " ch_names: A1, A2, A3, A4, A5, A6, A7, A8, A9, A10, A11, A12, A13, A14, ...\n",
              " chs: 80 EEG\n",
              " custom_ref_applied: False\n",
              " dig: 5 items (3 Cardinal, 2 EEG)\n",
              " highpass: 4.0 Hz\n",
              " lowpass: 8.0 Hz\n",
              " meas_date: unspecified\n",
              " nchan: 80\n",
              " projs: []\n",
              " sfreq: 128.0 Hz\n",
              ">"
            ]
          },
          "metadata": {
            "tags": []
          },
          "execution_count": 173
        }
      ]
    },
    {
      "cell_type": "code",
      "metadata": {
        "id": "1ntho4J9IEPs",
        "colab": {
          "base_uri": "https://localhost:8080/",
          "height": 354
        },
        "outputId": "1e4bf3bd-0a69-4219-9c54-8e1644d2a96e"
      },
      "source": [
        "eeg_data_resampled.plot(scalings = 'auto',n_channels=1);"
      ],
      "execution_count": 174,
      "outputs": [
        {
          "output_type": "stream",
          "text": [
            "/usr/local/lib/python3.6/dist-packages/matplotlib/colors.py:263: VisibleDeprecationWarning: Creating an ndarray from ragged nested sequences (which is a list-or-tuple of lists-or-tuples-or ndarrays with different lengths or shapes) is deprecated. If you meant to do this, you must specify 'dtype=object' when creating the ndarray\n",
            "  c = np.array(c)\n"
          ],
          "name": "stderr"
        },
        {
          "output_type": "display_data",
          "data": {
            "image/png": "[encoded data removed]",
            "text/plain": [
              "<MNEBrowseFigure size 432x288 with 4 Axes>"
            ]
          },
          "metadata": {
            "tags": [],
            "needs_background": "light"
          }
        }
      ]
    },
    {
      "cell_type": "markdown",
      "metadata": {
        "id": "FGh45x1eiqa4"
      },
      "source": [
        "## Re-referencing the data points."
      ]
    },
    {
      "cell_type": "code",
      "metadata": {
        "colab": {
          "base_uri": "https://localhost:8080/"
        },
        "id": "jCaEofd9i1ie",
        "outputId": "9768ca39-1533-42a9-dfcc-805f3566c90d"
      },
      "source": [
        "# re-referencing the data to the Common Average Reference method.\n",
        "\n",
        "eeg_data_ref = eeg_data_resampled.set_eeg_reference()"
      ],
      "execution_count": 175,
      "outputs": [
        {
          "output_type": "stream",
          "text": [
            "EEG channel type selected for re-referencing\n",
            "Applying average reference.\n",
            "Applying a custom EEG reference.\n"
          ],
          "name": "stdout"
        }
      ]
    },
    {
      "cell_type": "code",
      "metadata": {
        "colab": {
          "base_uri": "https://localhost:8080/"
        },
        "id": "BkSev7jEi1fa",
        "outputId": "c511ac41-6339-4131-92e9-0d5562571743"
      },
      "source": [
        "eeg_data_ref.info"
      ],
      "execution_count": 176,
      "outputs": [
        {
          "output_type": "execute_result",
          "data": {
            "text/plain": [
              "<Info | 9 non-empty values\n",
              " bads: []\n",
              " ch_names: A1, A2, A3, A4, A5, A6, A7, A8, A9, A10, A11, A12, A13, A14, ...\n",
              " chs: 80 EEG\n",
              " custom_ref_applied: True\n",
              " dig: 5 items (3 Cardinal, 2 EEG)\n",
              " highpass: 4.0 Hz\n",
              " lowpass: 8.0 Hz\n",
              " meas_date: unspecified\n",
              " nchan: 80\n",
              " projs: []\n",
              " sfreq: 128.0 Hz\n",
              ">"
            ]
          },
          "metadata": {
            "tags": []
          },
          "execution_count": 176
        }
      ]
    },
    {
      "cell_type": "code",
      "metadata": {
        "colab": {
          "base_uri": "https://localhost:8080/",
          "height": 285
        },
        "id": "Uk0KdIifi1cZ",
        "outputId": "1f9a8951-83bb-4e82-c772-38951667b8e4"
      },
      "source": [
        "eeg_data_ref.plot_psd();"
      ],
      "execution_count": 177,
      "outputs": [
        {
          "output_type": "stream",
          "text": [
            "Effective window size : 16.000 (s)\n"
          ],
          "name": "stdout"
        },
        {
          "output_type": "display_data",
          "data": {
            "image/png": "[encoded data removed]",
            "text/plain": [
              "<MNELineFigure size 720x252 with 2 Axes>"
            ]
          },
          "metadata": {
            "tags": [],
            "needs_background": "light"
          }
        }
      ]
    },
    {
      "cell_type": "code",
      "metadata": {
        "colab": {
          "base_uri": "https://localhost:8080/",
          "height": 354
        },
        "id": "OyccghwonAMi",
        "outputId": "0516ab00-1af5-4051-e353-dff978b69325"
      },
      "source": [
        "eeg_data_ref.plot(n_channels=10, block=True);"
      ],
      "execution_count": 178,
      "outputs": [
        {
          "output_type": "stream",
          "text": [
            "/usr/local/lib/python3.6/dist-packages/matplotlib/colors.py:263: VisibleDeprecationWarning: Creating an ndarray from ragged nested sequences (which is a list-or-tuple of lists-or-tuples-or ndarrays with different lengths or shapes) is deprecated. If you meant to do this, you must specify 'dtype=object' when creating the ndarray\n",
            "  c = np.array(c)\n"
          ],
          "name": "stderr"
        },
        {
          "output_type": "display_data",
          "data": {
            "image/png": "[encoded data removed]",
            "text/plain": [
              "<MNEBrowseFigure size 432x288 with 4 Axes>"
            ]
          },
          "metadata": {
            "tags": [],
            "needs_background": "light"
          }
        }
      ]
    },
    {
      "cell_type": "markdown",
      "metadata": {
        "id": "m6Rxs5MzlTAV"
      },
      "source": [
        "## Artifact Rejection."
      ]
    },
    {
      "cell_type": "code",
      "metadata": {
        "id": "MJgKVZ7Vi1Zi"
      },
      "source": [
        "reject = dict(eeg=5e-1)"
      ],
      "execution_count": 179,
      "outputs": []
    },
    {
      "cell_type": "code",
      "metadata": {
        "id": "ZVa3fKgLNVfF",
        "colab": {
          "base_uri": "https://localhost:8080/"
        },
        "outputId": "7ed543d0-3135-4d81-cd8b-d6efcc641935"
      },
      "source": [
        "dig = eeg_data_ref.info['chs']\n",
        "dig"
      ],
      "execution_count": 180,
      "outputs": [
        {
          "output_type": "execute_result",
          "data": {
            "text/plain": [
              "[{'cal': 1.0,\n",
              "  'ch_name': 'A1',\n",
              "  'coil_type': 1 (FIFFV_COIL_EEG),\n",
              "  'coord_frame': 4 (FIFFV_COORD_HEAD),\n",
              "  'kind': 2 (FIFFV_EEG_CH),\n",
              "  'loc': array([-0.08249004, -0.00621518, -0.01875643,  0.        ,  0.        ,\n",
              "          0.        ,         nan,         nan,         nan,         nan,\n",
              "                 nan,         nan]),\n",
              "  'logno': 1,\n",
              "  'range': 1.0,\n",
              "  'scanno': 1,\n",
              "  'unit': 107 (FIFF_UNIT_V),\n",
              "  'unit_mul': 0 (FIFF_UNITM_NONE)},\n",
              " {'cal': 1.0,\n",
              "  'ch_name': 'A2',\n",
              "  'coil_type': 1 (FIFFV_COIL_EEG),\n",
              "  'coord_frame': 4 (FIFFV_COORD_HEAD),\n",
              "  'kind': 2 (FIFFV_EEG_CH),\n",
              "  'loc': array([ 0.08224216, -0.00621518, -0.01875643,  0.        ,  0.        ,\n",
              "          0.        ,         nan,         nan,         nan,         nan,\n",
              "                 nan,         nan]),\n",
              "  'logno': 2,\n",
              "  'range': 1.0,\n",
              "  'scanno': 2,\n",
              "  'unit': 107 (FIFF_UNIT_V),\n",
              "  'unit_mul': 0 (FIFF_UNITM_NONE)},\n",
              " {'cal': 1.0,\n",
              "  'ch_name': 'A3',\n",
              "  'coil_type': 1 (FIFFV_COIL_EEG),\n",
              "  'coord_frame': 4 (FIFFV_COORD_HEAD),\n",
              "  'kind': 2 (FIFFV_EEG_CH),\n",
              "  'loc': array([nan, nan, nan, nan, nan, nan, nan, nan, nan, nan, nan, nan]),\n",
              "  'logno': 3,\n",
              "  'range': 1.0,\n",
              "  'scanno': 3,\n",
              "  'unit': 107 (FIFF_UNIT_V),\n",
              "  'unit_mul': 0 (FIFF_UNITM_NONE)},\n",
              " {'cal': 1.0,\n",
              "  'ch_name': 'A4',\n",
              "  'coil_type': 1 (FIFFV_COIL_EEG),\n",
              "  'coord_frame': 4 (FIFFV_COORD_HEAD),\n",
              "  'kind': 2 (FIFFV_EEG_CH),\n",
              "  'loc': array([nan, nan, nan, nan, nan, nan, nan, nan, nan, nan, nan, nan]),\n",
              "  'logno': 4,\n",
              "  'range': 1.0,\n",
              "  'scanno': 4,\n",
              "  'unit': 107 (FIFF_UNIT_V),\n",
              "  'unit_mul': 0 (FIFF_UNITM_NONE)},\n",
              " {'cal': 1.0,\n",
              "  'ch_name': 'A5',\n",
              "  'coil_type': 1 (FIFFV_COIL_EEG),\n",
              "  'coord_frame': 4 (FIFFV_COORD_HEAD),\n",
              "  'kind': 2 (FIFFV_EEG_CH),\n",
              "  'loc': array([nan, nan, nan, nan, nan, nan, nan, nan, nan, nan, nan, nan]),\n",
              "  'logno': 5,\n",
              "  'range': 1.0,\n",
              "  'scanno': 5,\n",
              "  'unit': 107 (FIFF_UNIT_V),\n",
              "  'unit_mul': 0 (FIFF_UNITM_NONE)},\n",
              " {'cal': 1.0,\n",
              "  'ch_name': 'A6',\n",
              "  'coil_type': 1 (FIFFV_COIL_EEG),\n",
              "  'coord_frame': 4 (FIFFV_COORD_HEAD),\n",
              "  'kind': 2 (FIFFV_EEG_CH),\n",
              "  'loc': array([nan, nan, nan, nan, nan, nan, nan, nan, nan, nan, nan, nan]),\n",
              "  'logno': 6,\n",
              "  'range': 1.0,\n",
              "  'scanno': 6,\n",
              "  'unit': 107 (FIFF_UNIT_V),\n",
              "  'unit_mul': 0 (FIFF_UNITM_NONE)},\n",
              " {'cal': 1.0,\n",
              "  'ch_name': 'A7',\n",
              "  'coil_type': 1 (FIFFV_COIL_EEG),\n",
              "  'coord_frame': 4 (FIFFV_COORD_HEAD),\n",
              "  'kind': 2 (FIFFV_EEG_CH),\n",
              "  'loc': array([nan, nan, nan, nan, nan, nan, nan, nan, nan, nan, nan, nan]),\n",
              "  'logno': 7,\n",
              "  'range': 1.0,\n",
              "  'scanno': 7,\n",
              "  'unit': 107 (FIFF_UNIT_V),\n",
              "  'unit_mul': 0 (FIFF_UNITM_NONE)},\n",
              " {'cal': 1.0,\n",
              "  'ch_name': 'A8',\n",
              "  'coil_type': 1 (FIFFV_COIL_EEG),\n",
              "  'coord_frame': 4 (FIFFV_COORD_HEAD),\n",
              "  'kind': 2 (FIFFV_EEG_CH),\n",
              "  'loc': array([nan, nan, nan, nan, nan, nan, nan, nan, nan, nan, nan, nan]),\n",
              "  'logno': 8,\n",
              "  'range': 1.0,\n",
              "  'scanno': 8,\n",
              "  'unit': 107 (FIFF_UNIT_V),\n",
              "  'unit_mul': 0 (FIFF_UNITM_NONE)},\n",
              " {'cal': 1.0,\n",
              "  'ch_name': 'A9',\n",
              "  'coil_type': 1 (FIFFV_COIL_EEG),\n",
              "  'coord_frame': 4 (FIFFV_COORD_HEAD),\n",
              "  'kind': 2 (FIFFV_EEG_CH),\n",
              "  'loc': array([nan, nan, nan, nan, nan, nan, nan, nan, nan, nan, nan, nan]),\n",
              "  'logno': 9,\n",
              "  'range': 1.0,\n",
              "  'scanno': 9,\n",
              "  'unit': 107 (FIFF_UNIT_V),\n",
              "  'unit_mul': 0 (FIFF_UNITM_NONE)},\n",
              " {'cal': 1.0,\n",
              "  'ch_name': 'A10',\n",
              "  'coil_type': 1 (FIFFV_COIL_EEG),\n",
              "  'coord_frame': 4 (FIFFV_COORD_HEAD),\n",
              "  'kind': 2 (FIFFV_EEG_CH),\n",
              "  'loc': array([nan, nan, nan, nan, nan, nan, nan, nan, nan, nan, nan, nan]),\n",
              "  'logno': 10,\n",
              "  'range': 1.0,\n",
              "  'scanno': 10,\n",
              "  'unit': 107 (FIFF_UNIT_V),\n",
              "  'unit_mul': 0 (FIFF_UNITM_NONE)},\n",
              " {'cal': 1.0,\n",
              "  'ch_name': 'A11',\n",
              "  'coil_type': 1 (FIFFV_COIL_EEG),\n",
              "  'coord_frame': 4 (FIFFV_COORD_HEAD),\n",
              "  'kind': 2 (FIFFV_EEG_CH),\n",
              "  'loc': array([nan, nan, nan, nan, nan, nan, nan, nan, nan, nan, nan, nan]),\n",
              "  'logno': 11,\n",
              "  'range': 1.0,\n",
              "  'scanno': 11,\n",
              "  'unit': 107 (FIFF_UNIT_V),\n",
              "  'unit_mul': 0 (FIFF_UNITM_NONE)},\n",
              " {'cal': 1.0,\n",
              "  'ch_name': 'A12',\n",
              "  'coil_type': 1 (FIFFV_COIL_EEG),\n",
              "  'coord_frame': 4 (FIFFV_COORD_HEAD),\n",
              "  'kind': 2 (FIFFV_EEG_CH),\n",
              "  'loc': array([nan, nan, nan, nan, nan, nan, nan, nan, nan, nan, nan, nan]),\n",
              "  'logno': 12,\n",
              "  'range': 1.0,\n",
              "  'scanno': 12,\n",
              "  'unit': 107 (FIFF_UNIT_V),\n",
              "  'unit_mul': 0 (FIFF_UNITM_NONE)},\n",
              " {'cal': 1.0,\n",
              "  'ch_name': 'A13',\n",
              "  'coil_type': 1 (FIFFV_COIL_EEG),\n",
              "  'coord_frame': 4 (FIFFV_COORD_HEAD),\n",
              "  'kind': 2 (FIFFV_EEG_CH),\n",
              "  'loc': array([nan, nan, nan, nan, nan, nan, nan, nan, nan, nan, nan, nan]),\n",
              "  'logno': 13,\n",
              "  'range': 1.0,\n",
              "  'scanno': 13,\n",
              "  'unit': 107 (FIFF_UNIT_V),\n",
              "  'unit_mul': 0 (FIFF_UNITM_NONE)},\n",
              " {'cal': 1.0,\n",
              "  'ch_name': 'A14',\n",
              "  'coil_type': 1 (FIFFV_COIL_EEG),\n",
              "  'coord_frame': 4 (FIFFV_COORD_HEAD),\n",
              "  'kind': 2 (FIFFV_EEG_CH),\n",
              "  'loc': array([nan, nan, nan, nan, nan, nan, nan, nan, nan, nan, nan, nan]),\n",
              "  'logno': 14,\n",
              "  'range': 1.0,\n",
              "  'scanno': 14,\n",
              "  'unit': 107 (FIFF_UNIT_V),\n",
              "  'unit_mul': 0 (FIFF_UNITM_NONE)},\n",
              " {'cal': 1.0,\n",
              "  'ch_name': 'A15',\n",
              "  'coil_type': 1 (FIFFV_COIL_EEG),\n",
              "  'coord_frame': 4 (FIFFV_COORD_HEAD),\n",
              "  'kind': 2 (FIFFV_EEG_CH),\n",
              "  'loc': array([nan, nan, nan, nan, nan, nan, nan, nan, nan, nan, nan, nan]),\n",
              "  'logno': 15,\n",
              "  'range': 1.0,\n",
              "  'scanno': 15,\n",
              "  'unit': 107 (FIFF_UNIT_V),\n",
              "  'unit_mul': 0 (FIFF_UNITM_NONE)},\n",
              " {'cal': 1.0,\n",
              "  'ch_name': 'A16',\n",
              "  'coil_type': 1 (FIFFV_COIL_EEG),\n",
              "  'coord_frame': 4 (FIFFV_COORD_HEAD),\n",
              "  'kind': 2 (FIFFV_EEG_CH),\n",
              "  'loc': array([nan, nan, nan, nan, nan, nan, nan, nan, nan, nan, nan, nan]),\n",
              "  'logno': 16,\n",
              "  'range': 1.0,\n",
              "  'scanno': 16,\n",
              "  'unit': 107 (FIFF_UNIT_V),\n",
              "  'unit_mul': 0 (FIFF_UNITM_NONE)},\n",
              " {'cal': 1.0,\n",
              "  'ch_name': 'A17',\n",
              "  'coil_type': 1 (FIFFV_COIL_EEG),\n",
              "  'coord_frame': 4 (FIFFV_COORD_HEAD),\n",
              "  'kind': 2 (FIFFV_EEG_CH),\n",
              "  'loc': array([nan, nan, nan, nan, nan, nan, nan, nan, nan, nan, nan, nan]),\n",
              "  'logno': 17,\n",
              "  'range': 1.0,\n",
              "  'scanno': 17,\n",
              "  'unit': 107 (FIFF_UNIT_V),\n",
              "  'unit_mul': 0 (FIFF_UNITM_NONE)},\n",
              " {'cal': 1.0,\n",
              "  'ch_name': 'A18',\n",
              "  'coil_type': 1 (FIFFV_COIL_EEG),\n",
              "  'coord_frame': 4 (FIFFV_COORD_HEAD),\n",
              "  'kind': 2 (FIFFV_EEG_CH),\n",
              "  'loc': array([nan, nan, nan, nan, nan, nan, nan, nan, nan, nan, nan, nan]),\n",
              "  'logno': 18,\n",
              "  'range': 1.0,\n",
              "  'scanno': 18,\n",
              "  'unit': 107 (FIFF_UNIT_V),\n",
              "  'unit_mul': 0 (FIFF_UNITM_NONE)},\n",
              " {'cal': 1.0,\n",
              "  'ch_name': 'A19',\n",
              "  'coil_type': 1 (FIFFV_COIL_EEG),\n",
              "  'coord_frame': 4 (FIFFV_COORD_HEAD),\n",
              "  'kind': 2 (FIFFV_EEG_CH),\n",
              "  'loc': array([nan, nan, nan, nan, nan, nan, nan, nan, nan, nan, nan, nan]),\n",
              "  'logno': 19,\n",
              "  'range': 1.0,\n",
              "  'scanno': 19,\n",
              "  'unit': 107 (FIFF_UNIT_V),\n",
              "  'unit_mul': 0 (FIFF_UNITM_NONE)},\n",
              " {'cal': 1.0,\n",
              "  'ch_name': 'A20',\n",
              "  'coil_type': 1 (FIFFV_COIL_EEG),\n",
              "  'coord_frame': 4 (FIFFV_COORD_HEAD),\n",
              "  'kind': 2 (FIFFV_EEG_CH),\n",
              "  'loc': array([nan, nan, nan, nan, nan, nan, nan, nan, nan, nan, nan, nan]),\n",
              "  'logno': 20,\n",
              "  'range': 1.0,\n",
              "  'scanno': 20,\n",
              "  'unit': 107 (FIFF_UNIT_V),\n",
              "  'unit_mul': 0 (FIFF_UNITM_NONE)},\n",
              " {'cal': 1.0,\n",
              "  'ch_name': 'A21',\n",
              "  'coil_type': 1 (FIFFV_COIL_EEG),\n",
              "  'coord_frame': 4 (FIFFV_COORD_HEAD),\n",
              "  'kind': 2 (FIFFV_EEG_CH),\n",
              "  'loc': array([nan, nan, nan, nan, nan, nan, nan, nan, nan, nan, nan, nan]),\n",
              "  'logno': 21,\n",
              "  'range': 1.0,\n",
              "  'scanno': 21,\n",
              "  'unit': 107 (FIFF_UNIT_V),\n",
              "  'unit_mul': 0 (FIFF_UNITM_NONE)},\n",
              " {'cal': 1.0,\n",
              "  'ch_name': 'A22',\n",
              "  'coil_type': 1 (FIFFV_COIL_EEG),\n",
              "  'coord_frame': 4 (FIFFV_COORD_HEAD),\n",
              "  'kind': 2 (FIFFV_EEG_CH),\n",
              "  'loc': array([nan, nan, nan, nan, nan, nan, nan, nan, nan, nan, nan, nan]),\n",
              "  'logno': 22,\n",
              "  'range': 1.0,\n",
              "  'scanno': 22,\n",
              "  'unit': 107 (FIFF_UNIT_V),\n",
              "  'unit_mul': 0 (FIFF_UNITM_NONE)},\n",
              " {'cal': 1.0,\n",
              "  'ch_name': 'A23',\n",
              "  'coil_type': 1 (FIFFV_COIL_EEG),\n",
              "  'coord_frame': 4 (FIFFV_COORD_HEAD),\n",
              "  'kind': 2 (FIFFV_EEG_CH),\n",
              "  'loc': array([nan, nan, nan, nan, nan, nan, nan, nan, nan, nan, nan, nan]),\n",
              "  'logno': 23,\n",
              "  'range': 1.0,\n",
              "  'scanno': 23,\n",
              "  'unit': 107 (FIFF_UNIT_V),\n",
              "  'unit_mul': 0 (FIFF_UNITM_NONE)},\n",
              " {'cal': 1.0,\n",
              "  'ch_name': 'A24',\n",
              "  'coil_type': 1 (FIFFV_COIL_EEG),\n",
              "  'coord_frame': 4 (FIFFV_COORD_HEAD),\n",
              "  'kind': 2 (FIFFV_EEG_CH),\n",
              "  'loc': array([nan, nan, nan, nan, nan, nan, nan, nan, nan, nan, nan, nan]),\n",
              "  'logno': 24,\n",
              "  'range': 1.0,\n",
              "  'scanno': 24,\n",
              "  'unit': 107 (FIFF_UNIT_V),\n",
              "  'unit_mul': 0 (FIFF_UNITM_NONE)},\n",
              " {'cal': 1.0,\n",
              "  'ch_name': 'A25',\n",
              "  'coil_type': 1 (FIFFV_COIL_EEG),\n",
              "  'coord_frame': 4 (FIFFV_COORD_HEAD),\n",
              "  'kind': 2 (FIFFV_EEG_CH),\n",
              "  'loc': array([nan, nan, nan, nan, nan, nan, nan, nan, nan, nan, nan, nan]),\n",
              "  'logno': 25,\n",
              "  'range': 1.0,\n",
              "  'scanno': 25,\n",
              "  'unit': 107 (FIFF_UNIT_V),\n",
              "  'unit_mul': 0 (FIFF_UNITM_NONE)},\n",
              " {'cal': 1.0,\n",
              "  'ch_name': 'A26',\n",
              "  'coil_type': 1 (FIFFV_COIL_EEG),\n",
              "  'coord_frame': 4 (FIFFV_COORD_HEAD),\n",
              "  'kind': 2 (FIFFV_EEG_CH),\n",
              "  'loc': array([nan, nan, nan, nan, nan, nan, nan, nan, nan, nan, nan, nan]),\n",
              "  'logno': 26,\n",
              "  'range': 1.0,\n",
              "  'scanno': 26,\n",
              "  'unit': 107 (FIFF_UNIT_V),\n",
              "  'unit_mul': 0 (FIFF_UNITM_NONE)},\n",
              " {'cal': 1.0,\n",
              "  'ch_name': 'A27',\n",
              "  'coil_type': 1 (FIFFV_COIL_EEG),\n",
              "  'coord_frame': 4 (FIFFV_COORD_HEAD),\n",
              "  'kind': 2 (FIFFV_EEG_CH),\n",
              "  'loc': array([nan, nan, nan, nan, nan, nan, nan, nan, nan, nan, nan, nan]),\n",
              "  'logno': 27,\n",
              "  'range': 1.0,\n",
              "  'scanno': 27,\n",
              "  'unit': 107 (FIFF_UNIT_V),\n",
              "  'unit_mul': 0 (FIFF_UNITM_NONE)},\n",
              " {'cal': 1.0,\n",
              "  'ch_name': 'A28',\n",
              "  'coil_type': 1 (FIFFV_COIL_EEG),\n",
              "  'coord_frame': 4 (FIFFV_COORD_HEAD),\n",
              "  'kind': 2 (FIFFV_EEG_CH),\n",
              "  'loc': array([nan, nan, nan, nan, nan, nan, nan, nan, nan, nan, nan, nan]),\n",
              "  'logno': 28,\n",
              "  'range': 1.0,\n",
              "  'scanno': 28,\n",
              "  'unit': 107 (FIFF_UNIT_V),\n",
              "  'unit_mul': 0 (FIFF_UNITM_NONE)},\n",
              " {'cal': 1.0,\n",
              "  'ch_name': 'A29',\n",
              "  'coil_type': 1 (FIFFV_COIL_EEG),\n",
              "  'coord_frame': 4 (FIFFV_COORD_HEAD),\n",
              "  'kind': 2 (FIFFV_EEG_CH),\n",
              "  'loc': array([nan, nan, nan, nan, nan, nan, nan, nan, nan, nan, nan, nan]),\n",
              "  'logno': 29,\n",
              "  'range': 1.0,\n",
              "  'scanno': 29,\n",
              "  'unit': 107 (FIFF_UNIT_V),\n",
              "  'unit_mul': 0 (FIFF_UNITM_NONE)},\n",
              " {'cal': 1.0,\n",
              "  'ch_name': 'A30',\n",
              "  'coil_type': 1 (FIFFV_COIL_EEG),\n",
              "  'coord_frame': 4 (FIFFV_COORD_HEAD),\n",
              "  'kind': 2 (FIFFV_EEG_CH),\n",
              "  'loc': array([nan, nan, nan, nan, nan, nan, nan, nan, nan, nan, nan, nan]),\n",
              "  'logno': 30,\n",
              "  'range': 1.0,\n",
              "  'scanno': 30,\n",
              "  'unit': 107 (FIFF_UNIT_V),\n",
              "  'unit_mul': 0 (FIFF_UNITM_NONE)},\n",
              " {'cal': 1.0,\n",
              "  'ch_name': 'A31',\n",
              "  'coil_type': 1 (FIFFV_COIL_EEG),\n",
              "  'coord_frame': 4 (FIFFV_COORD_HEAD),\n",
              "  'kind': 2 (FIFFV_EEG_CH),\n",
              "  'loc': array([nan, nan, nan, nan, nan, nan, nan, nan, nan, nan, nan, nan]),\n",
              "  'logno': 31,\n",
              "  'range': 1.0,\n",
              "  'scanno': 31,\n",
              "  'unit': 107 (FIFF_UNIT_V),\n",
              "  'unit_mul': 0 (FIFF_UNITM_NONE)},\n",
              " {'cal': 1.0,\n",
              "  'ch_name': 'A32',\n",
              "  'coil_type': 1 (FIFFV_COIL_EEG),\n",
              "  'coord_frame': 4 (FIFFV_COORD_HEAD),\n",
              "  'kind': 2 (FIFFV_EEG_CH),\n",
              "  'loc': array([nan, nan, nan, nan, nan, nan, nan, nan, nan, nan, nan, nan]),\n",
              "  'logno': 32,\n",
              "  'range': 1.0,\n",
              "  'scanno': 32,\n",
              "  'unit': 107 (FIFF_UNIT_V),\n",
              "  'unit_mul': 0 (FIFF_UNITM_NONE)},\n",
              " {'cal': 1.0,\n",
              "  'ch_name': 'B1',\n",
              "  'coil_type': 1 (FIFFV_COIL_EEG),\n",
              "  'coord_frame': 4 (FIFFV_COORD_HEAD),\n",
              "  'kind': 2 (FIFFV_EEG_CH),\n",
              "  'loc': array([nan, nan, nan, nan, nan, nan, nan, nan, nan, nan, nan, nan]),\n",
              "  'logno': 33,\n",
              "  'range': 1.0,\n",
              "  'scanno': 33,\n",
              "  'unit': 107 (FIFF_UNIT_V),\n",
              "  'unit_mul': 0 (FIFF_UNITM_NONE)},\n",
              " {'cal': 1.0,\n",
              "  'ch_name': 'B2',\n",
              "  'coil_type': 1 (FIFFV_COIL_EEG),\n",
              "  'coord_frame': 4 (FIFFV_COORD_HEAD),\n",
              "  'kind': 2 (FIFFV_EEG_CH),\n",
              "  'loc': array([nan, nan, nan, nan, nan, nan, nan, nan, nan, nan, nan, nan]),\n",
              "  'logno': 34,\n",
              "  'range': 1.0,\n",
              "  'scanno': 34,\n",
              "  'unit': 107 (FIFF_UNIT_V),\n",
              "  'unit_mul': 0 (FIFF_UNITM_NONE)},\n",
              " {'cal': 1.0,\n",
              "  'ch_name': 'B3',\n",
              "  'coil_type': 1 (FIFFV_COIL_EEG),\n",
              "  'coord_frame': 4 (FIFFV_COORD_HEAD),\n",
              "  'kind': 2 (FIFFV_EEG_CH),\n",
              "  'loc': array([nan, nan, nan, nan, nan, nan, nan, nan, nan, nan, nan, nan]),\n",
              "  'logno': 35,\n",
              "  'range': 1.0,\n",
              "  'scanno': 35,\n",
              "  'unit': 107 (FIFF_UNIT_V),\n",
              "  'unit_mul': 0 (FIFF_UNITM_NONE)},\n",
              " {'cal': 1.0,\n",
              "  'ch_name': 'B4',\n",
              "  'coil_type': 1 (FIFFV_COIL_EEG),\n",
              "  'coord_frame': 4 (FIFFV_COORD_HEAD),\n",
              "  'kind': 2 (FIFFV_EEG_CH),\n",
              "  'loc': array([nan, nan, nan, nan, nan, nan, nan, nan, nan, nan, nan, nan]),\n",
              "  'logno': 36,\n",
              "  'range': 1.0,\n",
              "  'scanno': 36,\n",
              "  'unit': 107 (FIFF_UNIT_V),\n",
              "  'unit_mul': 0 (FIFF_UNITM_NONE)},\n",
              " {'cal': 1.0,\n",
              "  'ch_name': 'B5',\n",
              "  'coil_type': 1 (FIFFV_COIL_EEG),\n",
              "  'coord_frame': 4 (FIFFV_COORD_HEAD),\n",
              "  'kind': 2 (FIFFV_EEG_CH),\n",
              "  'loc': array([nan, nan, nan, nan, nan, nan, nan, nan, nan, nan, nan, nan]),\n",
              "  'logno': 37,\n",
              "  'range': 1.0,\n",
              "  'scanno': 37,\n",
              "  'unit': 107 (FIFF_UNIT_V),\n",
              "  'unit_mul': 0 (FIFF_UNITM_NONE)},\n",
              " {'cal': 1.0,\n",
              "  'ch_name': 'B6',\n",
              "  'coil_type': 1 (FIFFV_COIL_EEG),\n",
              "  'coord_frame': 4 (FIFFV_COORD_HEAD),\n",
              "  'kind': 2 (FIFFV_EEG_CH),\n",
              "  'loc': array([nan, nan, nan, nan, nan, nan, nan, nan, nan, nan, nan, nan]),\n",
              "  'logno': 38,\n",
              "  'range': 1.0,\n",
              "  'scanno': 38,\n",
              "  'unit': 107 (FIFF_UNIT_V),\n",
              "  'unit_mul': 0 (FIFF_UNITM_NONE)},\n",
              " {'cal': 1.0,\n",
              "  'ch_name': 'B7',\n",
              "  'coil_type': 1 (FIFFV_COIL_EEG),\n",
              "  'coord_frame': 4 (FIFFV_COORD_HEAD),\n",
              "  'kind': 2 (FIFFV_EEG_CH),\n",
              "  'loc': array([nan, nan, nan, nan, nan, nan, nan, nan, nan, nan, nan, nan]),\n",
              "  'logno': 39,\n",
              "  'range': 1.0,\n",
              "  'scanno': 39,\n",
              "  'unit': 107 (FIFF_UNIT_V),\n",
              "  'unit_mul': 0 (FIFF_UNITM_NONE)},\n",
              " {'cal': 1.0,\n",
              "  'ch_name': 'B8',\n",
              "  'coil_type': 1 (FIFFV_COIL_EEG),\n",
              "  'coord_frame': 4 (FIFFV_COORD_HEAD),\n",
              "  'kind': 2 (FIFFV_EEG_CH),\n",
              "  'loc': array([nan, nan, nan, nan, nan, nan, nan, nan, nan, nan, nan, nan]),\n",
              "  'logno': 40,\n",
              "  'range': 1.0,\n",
              "  'scanno': 40,\n",
              "  'unit': 107 (FIFF_UNIT_V),\n",
              "  'unit_mul': 0 (FIFF_UNITM_NONE)},\n",
              " {'cal': 1.0,\n",
              "  'ch_name': 'B9',\n",
              "  'coil_type': 1 (FIFFV_COIL_EEG),\n",
              "  'coord_frame': 4 (FIFFV_COORD_HEAD),\n",
              "  'kind': 2 (FIFFV_EEG_CH),\n",
              "  'loc': array([nan, nan, nan, nan, nan, nan, nan, nan, nan, nan, nan, nan]),\n",
              "  'logno': 41,\n",
              "  'range': 1.0,\n",
              "  'scanno': 41,\n",
              "  'unit': 107 (FIFF_UNIT_V),\n",
              "  'unit_mul': 0 (FIFF_UNITM_NONE)},\n",
              " {'cal': 1.0,\n",
              "  'ch_name': 'B10',\n",
              "  'coil_type': 1 (FIFFV_COIL_EEG),\n",
              "  'coord_frame': 4 (FIFFV_COORD_HEAD),\n",
              "  'kind': 2 (FIFFV_EEG_CH),\n",
              "  'loc': array([nan, nan, nan, nan, nan, nan, nan, nan, nan, nan, nan, nan]),\n",
              "  'logno': 42,\n",
              "  'range': 1.0,\n",
              "  'scanno': 42,\n",
              "  'unit': 107 (FIFF_UNIT_V),\n",
              "  'unit_mul': 0 (FIFF_UNITM_NONE)},\n",
              " {'cal': 1.0,\n",
              "  'ch_name': 'B11',\n",
              "  'coil_type': 1 (FIFFV_COIL_EEG),\n",
              "  'coord_frame': 4 (FIFFV_COORD_HEAD),\n",
              "  'kind': 2 (FIFFV_EEG_CH),\n",
              "  'loc': array([nan, nan, nan, nan, nan, nan, nan, nan, nan, nan, nan, nan]),\n",
              "  'logno': 43,\n",
              "  'range': 1.0,\n",
              "  'scanno': 43,\n",
              "  'unit': 107 (FIFF_UNIT_V),\n",
              "  'unit_mul': 0 (FIFF_UNITM_NONE)},\n",
              " {'cal': 1.0,\n",
              "  'ch_name': 'B12',\n",
              "  'coil_type': 1 (FIFFV_COIL_EEG),\n",
              "  'coord_frame': 4 (FIFFV_COORD_HEAD),\n",
              "  'kind': 2 (FIFFV_EEG_CH),\n",
              "  'loc': array([nan, nan, nan, nan, nan, nan, nan, nan, nan, nan, nan, nan]),\n",
              "  'logno': 44,\n",
              "  'range': 1.0,\n",
              "  'scanno': 44,\n",
              "  'unit': 107 (FIFF_UNIT_V),\n",
              "  'unit_mul': 0 (FIFF_UNITM_NONE)},\n",
              " {'cal': 1.0,\n",
              "  'ch_name': 'B13',\n",
              "  'coil_type': 1 (FIFFV_COIL_EEG),\n",
              "  'coord_frame': 4 (FIFFV_COORD_HEAD),\n",
              "  'kind': 2 (FIFFV_EEG_CH),\n",
              "  'loc': array([nan, nan, nan, nan, nan, nan, nan, nan, nan, nan, nan, nan]),\n",
              "  'logno': 45,\n",
              "  'range': 1.0,\n",
              "  'scanno': 45,\n",
              "  'unit': 107 (FIFF_UNIT_V),\n",
              "  'unit_mul': 0 (FIFF_UNITM_NONE)},\n",
              " {'cal': 1.0,\n",
              "  'ch_name': 'B14',\n",
              "  'coil_type': 1 (FIFFV_COIL_EEG),\n",
              "  'coord_frame': 4 (FIFFV_COORD_HEAD),\n",
              "  'kind': 2 (FIFFV_EEG_CH),\n",
              "  'loc': array([nan, nan, nan, nan, nan, nan, nan, nan, nan, nan, nan, nan]),\n",
              "  'logno': 46,\n",
              "  'range': 1.0,\n",
              "  'scanno': 46,\n",
              "  'unit': 107 (FIFF_UNIT_V),\n",
              "  'unit_mul': 0 (FIFF_UNITM_NONE)},\n",
              " {'cal': 1.0,\n",
              "  'ch_name': 'B15',\n",
              "  'coil_type': 1 (FIFFV_COIL_EEG),\n",
              "  'coord_frame': 4 (FIFFV_COORD_HEAD),\n",
              "  'kind': 2 (FIFFV_EEG_CH),\n",
              "  'loc': array([nan, nan, nan, nan, nan, nan, nan, nan, nan, nan, nan, nan]),\n",
              "  'logno': 47,\n",
              "  'range': 1.0,\n",
              "  'scanno': 47,\n",
              "  'unit': 107 (FIFF_UNIT_V),\n",
              "  'unit_mul': 0 (FIFF_UNITM_NONE)},\n",
              " {'cal': 1.0,\n",
              "  'ch_name': 'B16',\n",
              "  'coil_type': 1 (FIFFV_COIL_EEG),\n",
              "  'coord_frame': 4 (FIFFV_COORD_HEAD),\n",
              "  'kind': 2 (FIFFV_EEG_CH),\n",
              "  'loc': array([nan, nan, nan, nan, nan, nan, nan, nan, nan, nan, nan, nan]),\n",
              "  'logno': 48,\n",
              "  'range': 1.0,\n",
              "  'scanno': 48,\n",
              "  'unit': 107 (FIFF_UNIT_V),\n",
              "  'unit_mul': 0 (FIFF_UNITM_NONE)},\n",
              " {'cal': 1.0,\n",
              "  'ch_name': 'B17',\n",
              "  'coil_type': 1 (FIFFV_COIL_EEG),\n",
              "  'coord_frame': 4 (FIFFV_COORD_HEAD),\n",
              "  'kind': 2 (FIFFV_EEG_CH),\n",
              "  'loc': array([nan, nan, nan, nan, nan, nan, nan, nan, nan, nan, nan, nan]),\n",
              "  'logno': 49,\n",
              "  'range': 1.0,\n",
              "  'scanno': 49,\n",
              "  'unit': 107 (FIFF_UNIT_V),\n",
              "  'unit_mul': 0 (FIFF_UNITM_NONE)},\n",
              " {'cal': 1.0,\n",
              "  'ch_name': 'B18',\n",
              "  'coil_type': 1 (FIFFV_COIL_EEG),\n",
              "  'coord_frame': 4 (FIFFV_COORD_HEAD),\n",
              "  'kind': 2 (FIFFV_EEG_CH),\n",
              "  'loc': array([nan, nan, nan, nan, nan, nan, nan, nan, nan, nan, nan, nan]),\n",
              "  'logno': 50,\n",
              "  'range': 1.0,\n",
              "  'scanno': 50,\n",
              "  'unit': 107 (FIFF_UNIT_V),\n",
              "  'unit_mul': 0 (FIFF_UNITM_NONE)},\n",
              " {'cal': 1.0,\n",
              "  'ch_name': 'B19',\n",
              "  'coil_type': 1 (FIFFV_COIL_EEG),\n",
              "  'coord_frame': 4 (FIFFV_COORD_HEAD),\n",
              "  'kind': 2 (FIFFV_EEG_CH),\n",
              "  'loc': array([nan, nan, nan, nan, nan, nan, nan, nan, nan, nan, nan, nan]),\n",
              "  'logno': 51,\n",
              "  'range': 1.0,\n",
              "  'scanno': 51,\n",
              "  'unit': 107 (FIFF_UNIT_V),\n",
              "  'unit_mul': 0 (FIFF_UNITM_NONE)},\n",
              " {'cal': 1.0,\n",
              "  'ch_name': 'B20',\n",
              "  'coil_type': 1 (FIFFV_COIL_EEG),\n",
              "  'coord_frame': 4 (FIFFV_COORD_HEAD),\n",
              "  'kind': 2 (FIFFV_EEG_CH),\n",
              "  'loc': array([nan, nan, nan, nan, nan, nan, nan, nan, nan, nan, nan, nan]),\n",
              "  'logno': 52,\n",
              "  'range': 1.0,\n",
              "  'scanno': 52,\n",
              "  'unit': 107 (FIFF_UNIT_V),\n",
              "  'unit_mul': 0 (FIFF_UNITM_NONE)},\n",
              " {'cal': 1.0,\n",
              "  'ch_name': 'B21',\n",
              "  'coil_type': 1 (FIFFV_COIL_EEG),\n",
              "  'coord_frame': 4 (FIFFV_COORD_HEAD),\n",
              "  'kind': 2 (FIFFV_EEG_CH),\n",
              "  'loc': array([nan, nan, nan, nan, nan, nan, nan, nan, nan, nan, nan, nan]),\n",
              "  'logno': 53,\n",
              "  'range': 1.0,\n",
              "  'scanno': 53,\n",
              "  'unit': 107 (FIFF_UNIT_V),\n",
              "  'unit_mul': 0 (FIFF_UNITM_NONE)},\n",
              " {'cal': 1.0,\n",
              "  'ch_name': 'B22',\n",
              "  'coil_type': 1 (FIFFV_COIL_EEG),\n",
              "  'coord_frame': 4 (FIFFV_COORD_HEAD),\n",
              "  'kind': 2 (FIFFV_EEG_CH),\n",
              "  'loc': array([nan, nan, nan, nan, nan, nan, nan, nan, nan, nan, nan, nan]),\n",
              "  'logno': 54,\n",
              "  'range': 1.0,\n",
              "  'scanno': 54,\n",
              "  'unit': 107 (FIFF_UNIT_V),\n",
              "  'unit_mul': 0 (FIFF_UNITM_NONE)},\n",
              " {'cal': 1.0,\n",
              "  'ch_name': 'B23',\n",
              "  'coil_type': 1 (FIFFV_COIL_EEG),\n",
              "  'coord_frame': 4 (FIFFV_COORD_HEAD),\n",
              "  'kind': 2 (FIFFV_EEG_CH),\n",
              "  'loc': array([nan, nan, nan, nan, nan, nan, nan, nan, nan, nan, nan, nan]),\n",
              "  'logno': 55,\n",
              "  'range': 1.0,\n",
              "  'scanno': 55,\n",
              "  'unit': 107 (FIFF_UNIT_V),\n",
              "  'unit_mul': 0 (FIFF_UNITM_NONE)},\n",
              " {'cal': 1.0,\n",
              "  'ch_name': 'B24',\n",
              "  'coil_type': 1 (FIFFV_COIL_EEG),\n",
              "  'coord_frame': 4 (FIFFV_COORD_HEAD),\n",
              "  'kind': 2 (FIFFV_EEG_CH),\n",
              "  'loc': array([nan, nan, nan, nan, nan, nan, nan, nan, nan, nan, nan, nan]),\n",
              "  'logno': 56,\n",
              "  'range': 1.0,\n",
              "  'scanno': 56,\n",
              "  'unit': 107 (FIFF_UNIT_V),\n",
              "  'unit_mul': 0 (FIFF_UNITM_NONE)},\n",
              " {'cal': 1.0,\n",
              "  'ch_name': 'B25',\n",
              "  'coil_type': 1 (FIFFV_COIL_EEG),\n",
              "  'coord_frame': 4 (FIFFV_COORD_HEAD),\n",
              "  'kind': 2 (FIFFV_EEG_CH),\n",
              "  'loc': array([nan, nan, nan, nan, nan, nan, nan, nan, nan, nan, nan, nan]),\n",
              "  'logno': 57,\n",
              "  'range': 1.0,\n",
              "  'scanno': 57,\n",
              "  'unit': 107 (FIFF_UNIT_V),\n",
              "  'unit_mul': 0 (FIFF_UNITM_NONE)},\n",
              " {'cal': 1.0,\n",
              "  'ch_name': 'B26',\n",
              "  'coil_type': 1 (FIFFV_COIL_EEG),\n",
              "  'coord_frame': 4 (FIFFV_COORD_HEAD),\n",
              "  'kind': 2 (FIFFV_EEG_CH),\n",
              "  'loc': array([nan, nan, nan, nan, nan, nan, nan, nan, nan, nan, nan, nan]),\n",
              "  'logno': 58,\n",
              "  'range': 1.0,\n",
              "  'scanno': 58,\n",
              "  'unit': 107 (FIFF_UNIT_V),\n",
              "  'unit_mul': 0 (FIFF_UNITM_NONE)},\n",
              " {'cal': 1.0,\n",
              "  'ch_name': 'B27',\n",
              "  'coil_type': 1 (FIFFV_COIL_EEG),\n",
              "  'coord_frame': 4 (FIFFV_COORD_HEAD),\n",
              "  'kind': 2 (FIFFV_EEG_CH),\n",
              "  'loc': array([nan, nan, nan, nan, nan, nan, nan, nan, nan, nan, nan, nan]),\n",
              "  'logno': 59,\n",
              "  'range': 1.0,\n",
              "  'scanno': 59,\n",
              "  'unit': 107 (FIFF_UNIT_V),\n",
              "  'unit_mul': 0 (FIFF_UNITM_NONE)},\n",
              " {'cal': 1.0,\n",
              "  'ch_name': 'B28',\n",
              "  'coil_type': 1 (FIFFV_COIL_EEG),\n",
              "  'coord_frame': 4 (FIFFV_COORD_HEAD),\n",
              "  'kind': 2 (FIFFV_EEG_CH),\n",
              "  'loc': array([nan, nan, nan, nan, nan, nan, nan, nan, nan, nan, nan, nan]),\n",
              "  'logno': 60,\n",
              "  'range': 1.0,\n",
              "  'scanno': 60,\n",
              "  'unit': 107 (FIFF_UNIT_V),\n",
              "  'unit_mul': 0 (FIFF_UNITM_NONE)},\n",
              " {'cal': 1.0,\n",
              "  'ch_name': 'B29',\n",
              "  'coil_type': 1 (FIFFV_COIL_EEG),\n",
              "  'coord_frame': 4 (FIFFV_COORD_HEAD),\n",
              "  'kind': 2 (FIFFV_EEG_CH),\n",
              "  'loc': array([nan, nan, nan, nan, nan, nan, nan, nan, nan, nan, nan, nan]),\n",
              "  'logno': 61,\n",
              "  'range': 1.0,\n",
              "  'scanno': 61,\n",
              "  'unit': 107 (FIFF_UNIT_V),\n",
              "  'unit_mul': 0 (FIFF_UNITM_NONE)},\n",
              " {'cal': 1.0,\n",
              "  'ch_name': 'B30',\n",
              "  'coil_type': 1 (FIFFV_COIL_EEG),\n",
              "  'coord_frame': 4 (FIFFV_COORD_HEAD),\n",
              "  'kind': 2 (FIFFV_EEG_CH),\n",
              "  'loc': array([nan, nan, nan, nan, nan, nan, nan, nan, nan, nan, nan, nan]),\n",
              "  'logno': 62,\n",
              "  'range': 1.0,\n",
              "  'scanno': 62,\n",
              "  'unit': 107 (FIFF_UNIT_V),\n",
              "  'unit_mul': 0 (FIFF_UNITM_NONE)},\n",
              " {'cal': 1.0,\n",
              "  'ch_name': 'B31',\n",
              "  'coil_type': 1 (FIFFV_COIL_EEG),\n",
              "  'coord_frame': 4 (FIFFV_COORD_HEAD),\n",
              "  'kind': 2 (FIFFV_EEG_CH),\n",
              "  'loc': array([nan, nan, nan, nan, nan, nan, nan, nan, nan, nan, nan, nan]),\n",
              "  'logno': 63,\n",
              "  'range': 1.0,\n",
              "  'scanno': 63,\n",
              "  'unit': 107 (FIFF_UNIT_V),\n",
              "  'unit_mul': 0 (FIFF_UNITM_NONE)},\n",
              " {'cal': 1.0,\n",
              "  'ch_name': 'B32',\n",
              "  'coil_type': 1 (FIFFV_COIL_EEG),\n",
              "  'coord_frame': 4 (FIFFV_COORD_HEAD),\n",
              "  'kind': 2 (FIFFV_EEG_CH),\n",
              "  'loc': array([nan, nan, nan, nan, nan, nan, nan, nan, nan, nan, nan, nan]),\n",
              "  'logno': 64,\n",
              "  'range': 1.0,\n",
              "  'scanno': 64,\n",
              "  'unit': 107 (FIFF_UNIT_V),\n",
              "  'unit_mul': 0 (FIFF_UNITM_NONE)},\n",
              " {'cal': 1.0,\n",
              "  'ch_name': 'EXG1',\n",
              "  'coil_type': 1 (FIFFV_COIL_EEG),\n",
              "  'coord_frame': 4 (FIFFV_COORD_HEAD),\n",
              "  'kind': 2 (FIFFV_EEG_CH),\n",
              "  'loc': array([nan, nan, nan, nan, nan, nan, nan, nan, nan, nan, nan, nan]),\n",
              "  'logno': 65,\n",
              "  'range': 1.0,\n",
              "  'scanno': 65,\n",
              "  'unit': 107 (FIFF_UNIT_V),\n",
              "  'unit_mul': 0 (FIFF_UNITM_NONE)},\n",
              " {'cal': 1.0,\n",
              "  'ch_name': 'EXG2',\n",
              "  'coil_type': 1 (FIFFV_COIL_EEG),\n",
              "  'coord_frame': 4 (FIFFV_COORD_HEAD),\n",
              "  'kind': 2 (FIFFV_EEG_CH),\n",
              "  'loc': array([nan, nan, nan, nan, nan, nan, nan, nan, nan, nan, nan, nan]),\n",
              "  'logno': 66,\n",
              "  'range': 1.0,\n",
              "  'scanno': 66,\n",
              "  'unit': 107 (FIFF_UNIT_V),\n",
              "  'unit_mul': 0 (FIFF_UNITM_NONE)},\n",
              " {'cal': 1.0,\n",
              "  'ch_name': 'EXG3',\n",
              "  'coil_type': 1 (FIFFV_COIL_EEG),\n",
              "  'coord_frame': 4 (FIFFV_COORD_HEAD),\n",
              "  'kind': 2 (FIFFV_EEG_CH),\n",
              "  'loc': array([nan, nan, nan, nan, nan, nan, nan, nan, nan, nan, nan, nan]),\n",
              "  'logno': 67,\n",
              "  'range': 1.0,\n",
              "  'scanno': 67,\n",
              "  'unit': 107 (FIFF_UNIT_V),\n",
              "  'unit_mul': 0 (FIFF_UNITM_NONE)},\n",
              " {'cal': 1.0,\n",
              "  'ch_name': 'EXG4',\n",
              "  'coil_type': 1 (FIFFV_COIL_EEG),\n",
              "  'coord_frame': 4 (FIFFV_COORD_HEAD),\n",
              "  'kind': 2 (FIFFV_EEG_CH),\n",
              "  'loc': array([nan, nan, nan, nan, nan, nan, nan, nan, nan, nan, nan, nan]),\n",
              "  'logno': 68,\n",
              "  'range': 1.0,\n",
              "  'scanno': 68,\n",
              "  'unit': 107 (FIFF_UNIT_V),\n",
              "  'unit_mul': 0 (FIFF_UNITM_NONE)},\n",
              " {'cal': 1.0,\n",
              "  'ch_name': 'EXG5',\n",
              "  'coil_type': 1 (FIFFV_COIL_EEG),\n",
              "  'coord_frame': 4 (FIFFV_COORD_HEAD),\n",
              "  'kind': 2 (FIFFV_EEG_CH),\n",
              "  'loc': array([nan, nan, nan, nan, nan, nan, nan, nan, nan, nan, nan, nan]),\n",
              "  'logno': 69,\n",
              "  'range': 1.0,\n",
              "  'scanno': 69,\n",
              "  'unit': 107 (FIFF_UNIT_V),\n",
              "  'unit_mul': 0 (FIFF_UNITM_NONE)},\n",
              " {'cal': 1.0,\n",
              "  'ch_name': 'EXG6',\n",
              "  'coil_type': 1 (FIFFV_COIL_EEG),\n",
              "  'coord_frame': 4 (FIFFV_COORD_HEAD),\n",
              "  'kind': 2 (FIFFV_EEG_CH),\n",
              "  'loc': array([nan, nan, nan, nan, nan, nan, nan, nan, nan, nan, nan, nan]),\n",
              "  'logno': 70,\n",
              "  'range': 1.0,\n",
              "  'scanno': 70,\n",
              "  'unit': 107 (FIFF_UNIT_V),\n",
              "  'unit_mul': 0 (FIFF_UNITM_NONE)},\n",
              " {'cal': 1.0,\n",
              "  'ch_name': 'EXG7',\n",
              "  'coil_type': 1 (FIFFV_COIL_EEG),\n",
              "  'coord_frame': 4 (FIFFV_COORD_HEAD),\n",
              "  'kind': 2 (FIFFV_EEG_CH),\n",
              "  'loc': array([nan, nan, nan, nan, nan, nan, nan, nan, nan, nan, nan, nan]),\n",
              "  'logno': 71,\n",
              "  'range': 1.0,\n",
              "  'scanno': 71,\n",
              "  'unit': 107 (FIFF_UNIT_V),\n",
              "  'unit_mul': 0 (FIFF_UNITM_NONE)},\n",
              " {'cal': 1.0,\n",
              "  'ch_name': 'EXG8',\n",
              "  'coil_type': 1 (FIFFV_COIL_EEG),\n",
              "  'coord_frame': 4 (FIFFV_COORD_HEAD),\n",
              "  'kind': 2 (FIFFV_EEG_CH),\n",
              "  'loc': array([nan, nan, nan, nan, nan, nan, nan, nan, nan, nan, nan, nan]),\n",
              "  'logno': 72,\n",
              "  'range': 1.0,\n",
              "  'scanno': 72,\n",
              "  'unit': 107 (FIFF_UNIT_V),\n",
              "  'unit_mul': 0 (FIFF_UNITM_NONE)},\n",
              " {'cal': 1.0,\n",
              "  'ch_name': 'GSR1',\n",
              "  'coil_type': 1 (FIFFV_COIL_EEG),\n",
              "  'coord_frame': 4 (FIFFV_COORD_HEAD),\n",
              "  'kind': 2 (FIFFV_EEG_CH),\n",
              "  'loc': array([nan, nan, nan, nan, nan, nan, nan, nan, nan, nan, nan, nan]),\n",
              "  'logno': 73,\n",
              "  'range': 1.0,\n",
              "  'scanno': 73,\n",
              "  'unit': 107 (FIFF_UNIT_V),\n",
              "  'unit_mul': 0 (FIFF_UNITM_NONE)},\n",
              " {'cal': 1.0,\n",
              "  'ch_name': 'GSR2',\n",
              "  'coil_type': 1 (FIFFV_COIL_EEG),\n",
              "  'coord_frame': 4 (FIFFV_COORD_HEAD),\n",
              "  'kind': 2 (FIFFV_EEG_CH),\n",
              "  'loc': array([nan, nan, nan, nan, nan, nan, nan, nan, nan, nan, nan, nan]),\n",
              "  'logno': 74,\n",
              "  'range': 1.0,\n",
              "  'scanno': 74,\n",
              "  'unit': 107 (FIFF_UNIT_V),\n",
              "  'unit_mul': 0 (FIFF_UNITM_NONE)},\n",
              " {'cal': 1.0,\n",
              "  'ch_name': 'Erg1',\n",
              "  'coil_type': 1 (FIFFV_COIL_EEG),\n",
              "  'coord_frame': 4 (FIFFV_COORD_HEAD),\n",
              "  'kind': 2 (FIFFV_EEG_CH),\n",
              "  'loc': array([nan, nan, nan, nan, nan, nan, nan, nan, nan, nan, nan, nan]),\n",
              "  'logno': 75,\n",
              "  'range': 1.0,\n",
              "  'scanno': 75,\n",
              "  'unit': 107 (FIFF_UNIT_V),\n",
              "  'unit_mul': 0 (FIFF_UNITM_NONE)},\n",
              " {'cal': 1.0,\n",
              "  'ch_name': 'Erg2',\n",
              "  'coil_type': 1 (FIFFV_COIL_EEG),\n",
              "  'coord_frame': 4 (FIFFV_COORD_HEAD),\n",
              "  'kind': 2 (FIFFV_EEG_CH),\n",
              "  'loc': array([nan, nan, nan, nan, nan, nan, nan, nan, nan, nan, nan, nan]),\n",
              "  'logno': 76,\n",
              "  'range': 1.0,\n",
              "  'scanno': 76,\n",
              "  'unit': 107 (FIFF_UNIT_V),\n",
              "  'unit_mul': 0 (FIFF_UNITM_NONE)},\n",
              " {'cal': 1.0,\n",
              "  'ch_name': 'Resp',\n",
              "  'coil_type': 1 (FIFFV_COIL_EEG),\n",
              "  'coord_frame': 4 (FIFFV_COORD_HEAD),\n",
              "  'kind': 2 (FIFFV_EEG_CH),\n",
              "  'loc': array([nan, nan, nan, nan, nan, nan, nan, nan, nan, nan, nan, nan]),\n",
              "  'logno': 77,\n",
              "  'range': 1.0,\n",
              "  'scanno': 77,\n",
              "  'unit': 107 (FIFF_UNIT_V),\n",
              "  'unit_mul': 0 (FIFF_UNITM_NONE)},\n",
              " {'cal': 1.0,\n",
              "  'ch_name': 'Plet',\n",
              "  'coil_type': 1 (FIFFV_COIL_EEG),\n",
              "  'coord_frame': 4 (FIFFV_COORD_HEAD),\n",
              "  'kind': 2 (FIFFV_EEG_CH),\n",
              "  'loc': array([nan, nan, nan, nan, nan, nan, nan, nan, nan, nan, nan, nan]),\n",
              "  'logno': 78,\n",
              "  'range': 1.0,\n",
              "  'scanno': 78,\n",
              "  'unit': 107 (FIFF_UNIT_V),\n",
              "  'unit_mul': 0 (FIFF_UNITM_NONE)},\n",
              " {'cal': 1.0,\n",
              "  'ch_name': 'Temp',\n",
              "  'coil_type': 1 (FIFFV_COIL_EEG),\n",
              "  'coord_frame': 4 (FIFFV_COORD_HEAD),\n",
              "  'kind': 2 (FIFFV_EEG_CH),\n",
              "  'loc': array([nan, nan, nan, nan, nan, nan, nan, nan, nan, nan, nan, nan]),\n",
              "  'logno': 79,\n",
              "  'range': 1.0,\n",
              "  'scanno': 79,\n",
              "  'unit': 107 (FIFF_UNIT_V),\n",
              "  'unit_mul': 0 (FIFF_UNITM_NONE)},\n",
              " {'cal': 1.0,\n",
              "  'ch_name': 'Status',\n",
              "  'coil_type': 1 (FIFFV_COIL_EEG),\n",
              "  'coord_frame': 4 (FIFFV_COORD_HEAD),\n",
              "  'kind': 2 (FIFFV_EEG_CH),\n",
              "  'loc': array([nan, nan, nan, nan, nan, nan, nan, nan, nan, nan, nan, nan]),\n",
              "  'logno': 80,\n",
              "  'range': 1.0,\n",
              "  'scanno': 80,\n",
              "  'unit': 107 (FIFF_UNIT_V),\n",
              "  'unit_mul': 0 (FIFF_UNITM_NONE)}]"
            ]
          },
          "metadata": {
            "tags": []
          },
          "execution_count": 180
        }
      ]
    },
    {
      "cell_type": "code",
      "metadata": {
        "id": "onmmk-zonk8_"
      },
      "source": [
        "picks = mne.pick_types(eeg_data_ref.info, exclude=[reject]) "
      ],
      "execution_count": 181,
      "outputs": []
    },
    {
      "cell_type": "markdown",
      "metadata": {
        "id": "nlwccwKGxL9n"
      },
      "source": [
        "## Artifact Correction - Independent Componenet Analysis."
      ]
    },
    {
      "cell_type": "code",
      "metadata": {
        "id": "wtBQd6r0ap9F",
        "colab": {
          "base_uri": "https://localhost:8080/",
          "height": 35
        },
        "outputId": "4c89b76f-eff3-452b-ebd4-c79613371d83"
      },
      "source": [
        "\"\"\"dig_loc={}\n",
        "for dictx in dig:\n",
        "  loc = dictx.get('loc')\n",
        "  dig_loc[dictx.get('ch_name')] = loc\n",
        "print(dig_loc)\n",
        "print(len(dig_loc))\"\"\""
      ],
      "execution_count": 182,
      "outputs": [
        {
          "output_type": "execute_result",
          "data": {
            "application/vnd.google.colaboratory.intrinsic+json": {
              "type": "string"
            },
            "text/plain": [
              "\"dig_loc={}\\nfor dictx in dig:\\n  loc = dictx.get('loc')\\n  dig_loc[dictx.get('ch_name')] = loc\\nprint(dig_loc)\\nprint(len(dig_loc))\""
            ]
          },
          "metadata": {
            "tags": []
          },
          "execution_count": 182
        }
      ]
    },
    {
      "cell_type": "code",
      "metadata": {
        "colab": {
          "base_uri": "https://localhost:8080/"
        },
        "id": "t09WNUjo1Dnp",
        "outputId": "8dc54e37-4250-4f10-c290-159f24bb3bb4"
      },
      "source": [
        "eeg_data_ref.rename_channels(mapping= lambda name: name.replace(\".\",\"\"))"
      ],
      "execution_count": 183,
      "outputs": [
        {
          "output_type": "execute_result",
          "data": {
            "text/plain": [
              "<RawEDF | raw_eeg_med_1.bdf, 80 x 348288 (2721.0 s), ~212.7 MB, data loaded>"
            ]
          },
          "metadata": {
            "tags": []
          },
          "execution_count": 183
        }
      ]
    },
    {
      "cell_type": "code",
      "metadata": {
        "colab": {
          "base_uri": "https://localhost:8080/"
        },
        "id": "HZXcmFDXyyt0",
        "outputId": "2355a1ee-58b8-4777-8836-5dd699071f77"
      },
      "source": [
        "\n",
        "from mne.preprocessing import ICA\n",
        "num_components = 25 #play around with this number to get components that seem to represent the actual brain activations well\n",
        "ica = ICA(n_components=num_components, method='fastica')\n",
        "ica.fit(eeg_data_ref, reject=reject)"
      ],
      "execution_count": 184,
      "outputs": [
        {
          "output_type": "stream",
          "text": [
            "Fitting ICA to data using 80 channels (please be patient, this may take a while)\n",
            "    Rejecting  epoch based on EEG : ['A1', 'A2', 'A3', 'A4', 'A5', 'A6', 'A7', 'A8', 'A9', 'A10', 'A11', 'A12', 'A13', 'A14', 'A15', 'A16', 'A17', 'A18', 'A19', 'A20', 'A21', 'A22', 'A23', 'A24', 'A25', 'A26', 'A27', 'A28', 'A29', 'A30', 'A31', 'A32', 'B1', 'B2', 'B3', 'B4', 'B5', 'B6', 'B7', 'B8', 'B9', 'B10', 'B11', 'B12', 'B13', 'B14', 'B15', 'B16', 'B17', 'B18', 'B19', 'B20', 'B21', 'B22', 'B23', 'B24', 'B25', 'B26', 'B27', 'B28', 'B29', 'B30', 'B31', 'B32', 'EXG1', 'EXG2', 'EXG3', 'EXG4', 'EXG5', 'EXG6', 'EXG7', 'EXG8', 'GSR1', 'GSR2', 'Erg1', 'Erg2', 'Resp', 'Plet', 'Temp', 'Status']\n",
            "Artifact detected in [0, 256]\n",
            "    Rejecting  epoch based on EEG : ['GSR1']\n",
            "Artifact detected in [1280, 1536]\n",
            "    Rejecting  epoch based on EEG : ['GSR1']\n",
            "Artifact detected in [2048, 2304]\n",
            "    Rejecting  epoch based on EEG : ['GSR1']\n",
            "Artifact detected in [2304, 2560]\n",
            "    Rejecting  epoch based on EEG : ['GSR1']\n",
            "Artifact detected in [5888, 6144]\n",
            "    Rejecting  epoch based on EEG : ['Status']\n",
            "Artifact detected in [8960, 9216]\n",
            "    Rejecting  epoch based on EEG : ['GSR1']\n",
            "Artifact detected in [9472, 9728]\n",
            "    Rejecting  epoch based on EEG : ['GSR1']\n",
            "Artifact detected in [9728, 9984]\n",
            "    Rejecting  epoch based on EEG : ['GSR1']\n",
            "Artifact detected in [9984, 10240]\n",
            "    Rejecting  epoch based on EEG : ['GSR1']\n",
            "Artifact detected in [10240, 10496]\n",
            "    Rejecting  epoch based on EEG : ['GSR1']\n",
            "Artifact detected in [10496, 10752]\n",
            "    Rejecting  epoch based on EEG : ['GSR1']\n",
            "Artifact detected in [10752, 11008]\n",
            "    Rejecting  epoch based on EEG : ['GSR1']\n",
            "Artifact detected in [11008, 11264]\n",
            "    Rejecting  epoch based on EEG : ['GSR1']\n",
            "Artifact detected in [11264, 11520]\n",
            "    Rejecting  epoch based on EEG : ['GSR1']\n",
            "Artifact detected in [11520, 11776]\n",
            "    Rejecting  epoch based on EEG : ['GSR1']\n",
            "Artifact detected in [13056, 13312]\n",
            "    Rejecting  epoch based on EEG : ['GSR1']\n",
            "Artifact detected in [14080, 14336]\n",
            "    Rejecting  epoch based on EEG : ['GSR1']\n",
            "Artifact detected in [14336, 14592]\n",
            "    Rejecting  epoch based on EEG : ['GSR1', 'Status']\n",
            "Artifact detected in [15872, 16128]\n",
            "    Rejecting  epoch based on EEG : ['Status']\n",
            "Artifact detected in [16128, 16384]\n",
            "    Rejecting  epoch based on EEG : ['GSR1']\n",
            "Artifact detected in [16384, 16640]\n",
            "    Rejecting  epoch based on EEG : ['GSR1']\n",
            "Artifact detected in [16896, 17152]\n",
            "    Rejecting  epoch based on EEG : ['GSR1']\n",
            "Artifact detected in [17152, 17408]\n",
            "    Rejecting  epoch based on EEG : ['GSR1']\n",
            "Artifact detected in [17408, 17664]\n",
            "    Rejecting  epoch based on EEG : ['GSR1']\n",
            "Artifact detected in [17664, 17920]\n",
            "    Rejecting  epoch based on EEG : ['GSR1']\n",
            "Artifact detected in [17920, 18176]\n",
            "    Rejecting  epoch based on EEG : ['GSR1']\n",
            "Artifact detected in [18176, 18432]\n",
            "    Rejecting  epoch based on EEG : ['GSR1']\n",
            "Artifact detected in [19968, 20224]\n",
            "    Rejecting  epoch based on EEG : ['GSR1']\n",
            "Artifact detected in [21248, 21504]\n",
            "    Rejecting  epoch based on EEG : ['GSR1', 'Status']\n",
            "Artifact detected in [22784, 23040]\n",
            "    Rejecting  epoch based on EEG : ['Status']\n",
            "Artifact detected in [23040, 23296]\n",
            "    Rejecting  epoch based on EEG : ['GSR1', 'Status']\n",
            "Artifact detected in [23552, 23808]\n",
            "    Rejecting  epoch based on EEG : ['GSR1']\n",
            "Artifact detected in [23808, 24064]\n",
            "    Rejecting  epoch based on EEG : ['GSR1']\n",
            "Artifact detected in [24064, 24320]\n",
            "    Rejecting  epoch based on EEG : ['GSR1']\n",
            "Artifact detected in [27392, 27648]\n",
            "    Rejecting  epoch based on EEG : ['GSR1']\n",
            "Artifact detected in [27904, 28160]\n",
            "    Rejecting  epoch based on EEG : ['GSR1']\n",
            "Artifact detected in [28416, 28672]\n",
            "    Rejecting  epoch based on EEG : ['GSR1']\n",
            "Artifact detected in [30208, 30464]\n",
            "    Rejecting  epoch based on EEG : ['GSR1']\n",
            "Artifact detected in [30464, 30720]\n",
            "    Rejecting  epoch based on EEG : ['GSR1']\n",
            "Artifact detected in [31488, 31744]\n",
            "    Rejecting  epoch based on EEG : ['GSR1']\n",
            "Artifact detected in [31744, 32000]\n",
            "    Rejecting  epoch based on EEG : ['GSR1']\n",
            "Artifact detected in [32768, 33024]\n",
            "    Rejecting  epoch based on EEG : ['GSR1']\n",
            "Artifact detected in [33024, 33280]\n",
            "    Rejecting  epoch based on EEG : ['GSR1']\n",
            "Artifact detected in [34304, 34560]\n",
            "    Rejecting  epoch based on EEG : ['GSR1']\n",
            "Artifact detected in [35072, 35328]\n",
            "    Rejecting  epoch based on EEG : ['GSR1']\n",
            "Artifact detected in [35328, 35584]\n",
            "    Rejecting  epoch based on EEG : ['GSR1']\n",
            "Artifact detected in [36096, 36352]\n",
            "    Rejecting  epoch based on EEG : ['Status']\n",
            "Artifact detected in [36352, 36608]\n",
            "    Rejecting  epoch based on EEG : ['GSR1', 'Status']\n",
            "Artifact detected in [36864, 37120]\n",
            "    Rejecting  epoch based on EEG : ['GSR1']\n",
            "Artifact detected in [37376, 37632]\n",
            "    Rejecting  epoch based on EEG : ['GSR1']\n",
            "Artifact detected in [37632, 37888]\n",
            "    Rejecting  epoch based on EEG : ['GSR1']\n",
            "Artifact detected in [37888, 38144]\n",
            "    Rejecting  epoch based on EEG : ['GSR1']\n",
            "Artifact detected in [38144, 38400]\n",
            "    Rejecting  epoch based on EEG : ['GSR1']\n",
            "Artifact detected in [38656, 38912]\n",
            "    Rejecting  epoch based on EEG : ['GSR1']\n",
            "Artifact detected in [38912, 39168]\n",
            "    Rejecting  epoch based on EEG : ['GSR1']\n",
            "Artifact detected in [39168, 39424]\n",
            "    Rejecting  epoch based on EEG : ['GSR1']\n",
            "Artifact detected in [39424, 39680]\n",
            "    Rejecting  epoch based on EEG : ['GSR1']\n",
            "Artifact detected in [39936, 40192]\n",
            "    Rejecting  epoch based on EEG : ['GSR1']\n",
            "Artifact detected in [40448, 40704]\n",
            "    Rejecting  epoch based on EEG : ['GSR1']\n",
            "Artifact detected in [40704, 40960]\n",
            "    Rejecting  epoch based on EEG : ['GSR1']\n",
            "Artifact detected in [42496, 42752]\n",
            "    Rejecting  epoch based on EEG : ['GSR1']\n",
            "Artifact detected in [42752, 43008]\n",
            "    Rejecting  epoch based on EEG : ['GSR1']\n",
            "Artifact detected in [43008, 43264]\n",
            "    Rejecting  epoch based on EEG : ['GSR1']\n",
            "Artifact detected in [43264, 43520]\n",
            "    Rejecting  epoch based on EEG : ['GSR1']\n",
            "Artifact detected in [43520, 43776]\n",
            "    Rejecting  epoch based on EEG : ['GSR1']\n",
            "Artifact detected in [43776, 44032]\n",
            "    Rejecting  epoch based on EEG : ['GSR1']\n",
            "Artifact detected in [45312, 45568]\n",
            "    Rejecting  epoch based on EEG : ['GSR1']\n",
            "Artifact detected in [45824, 46080]\n",
            "    Rejecting  epoch based on EEG : ['Status']\n",
            "Artifact detected in [46080, 46336]\n",
            "    Rejecting  epoch based on EEG : ['GSR1', 'Status']\n",
            "Artifact detected in [46336, 46592]\n",
            "    Rejecting  epoch based on EEG : ['GSR1']\n",
            "Artifact detected in [46592, 46848]\n",
            "    Rejecting  epoch based on EEG : ['GSR1']\n",
            "Artifact detected in [46848, 47104]\n",
            "    Rejecting  epoch based on EEG : ['GSR1']\n",
            "Artifact detected in [47872, 48128]\n",
            "    Rejecting  epoch based on EEG : ['GSR1']\n",
            "Artifact detected in [50432, 50688]\n",
            "    Rejecting  epoch based on EEG : ['GSR1']\n",
            "Artifact detected in [51200, 51456]\n",
            "    Rejecting  epoch based on EEG : ['GSR1']\n",
            "Artifact detected in [53248, 53504]\n",
            "    Rejecting  epoch based on EEG : ['GSR1']\n",
            "Artifact detected in [53504, 53760]\n",
            "    Rejecting  epoch based on EEG : ['Status']\n",
            "Artifact detected in [54016, 54272]\n",
            "    Rejecting  epoch based on EEG : ['GSR1']\n",
            "Artifact detected in [54784, 55040]\n",
            "    Rejecting  epoch based on EEG : ['Status']\n",
            "Artifact detected in [55040, 55296]\n",
            "    Rejecting  epoch based on EEG : ['GSR1']\n",
            "Artifact detected in [55552, 55808]\n",
            "    Rejecting  epoch based on EEG : ['GSR1']\n",
            "Artifact detected in [58624, 58880]\n",
            "    Rejecting  epoch based on EEG : ['GSR1']\n",
            "Artifact detected in [59648, 59904]\n",
            "    Rejecting  epoch based on EEG : ['GSR1']\n",
            "Artifact detected in [59904, 60160]\n",
            "    Rejecting  epoch based on EEG : ['GSR1']\n",
            "Artifact detected in [61696, 61952]\n",
            "    Rejecting  epoch based on EEG : ['GSR1', 'Status']\n",
            "Artifact detected in [65280, 65536]\n",
            "    Rejecting  epoch based on EEG : ['Status']\n",
            "Artifact detected in [65792, 66048]\n",
            "    Rejecting  epoch based on EEG : ['GSR1']\n",
            "Artifact detected in [68608, 68864]\n",
            "    Rejecting  epoch based on EEG : ['GSR1']\n",
            "Artifact detected in [72960, 73216]\n",
            "    Rejecting  epoch based on EEG : ['GSR1']\n",
            "Artifact detected in [77056, 77312]\n",
            "    Rejecting  epoch based on EEG : ['GSR1']\n",
            "Artifact detected in [77568, 77824]\n",
            "    Rejecting  epoch based on EEG : ['GSR1']\n",
            "Artifact detected in [77824, 78080]\n",
            "    Rejecting  epoch based on EEG : ['GSR1', 'Status']\n",
            "Artifact detected in [78080, 78336]\n",
            "    Rejecting  epoch based on EEG : ['GSR1']\n",
            "Artifact detected in [78592, 78848]\n",
            "    Rejecting  epoch based on EEG : ['GSR1', 'Status']\n",
            "Artifact detected in [78848, 79104]\n",
            "    Rejecting  epoch based on EEG : ['GSR1']\n",
            "Artifact detected in [79104, 79360]\n",
            "    Rejecting  epoch based on EEG : ['GSR1']\n",
            "Artifact detected in [79360, 79616]\n",
            "    Rejecting  epoch based on EEG : ['GSR1']\n",
            "Artifact detected in [79616, 79872]\n",
            "    Rejecting  epoch based on EEG : ['GSR1']\n",
            "Artifact detected in [80128, 80384]\n",
            "    Rejecting  epoch based on EEG : ['GSR1']\n",
            "Artifact detected in [80384, 80640]\n",
            "    Rejecting  epoch based on EEG : ['GSR1']\n",
            "Artifact detected in [80640, 80896]\n",
            "    Rejecting  epoch based on EEG : ['GSR1']\n",
            "Artifact detected in [80896, 81152]\n",
            "    Rejecting  epoch based on EEG : ['GSR1']\n",
            "Artifact detected in [81152, 81408]\n",
            "    Rejecting  epoch based on EEG : ['GSR1']\n",
            "Artifact detected in [85248, 85504]\n",
            "    Rejecting  epoch based on EEG : ['GSR1']\n",
            "Artifact detected in [87552, 87808]\n",
            "    Rejecting  epoch based on EEG : ['GSR1']\n",
            "Artifact detected in [87808, 88064]\n",
            "    Rejecting  epoch based on EEG : ['GSR1', 'Status']\n",
            "Artifact detected in [88064, 88320]\n",
            "    Rejecting  epoch based on EEG : ['GSR1']\n",
            "Artifact detected in [89088, 89344]\n",
            "    Rejecting  epoch based on EEG : ['GSR1', 'Status']\n",
            "Artifact detected in [95488, 95744]\n",
            "    Rejecting  epoch based on EEG : ['Status']\n",
            "Artifact detected in [95744, 96000]\n",
            "    Rejecting  epoch based on EEG : ['Status']\n",
            "Artifact detected in [96000, 96256]\n",
            "    Rejecting  epoch based on EEG : ['GSR1']\n",
            "Artifact detected in [96768, 97024]\n",
            "    Rejecting  epoch based on EEG : ['GSR1']\n",
            "Artifact detected in [97024, 97280]\n",
            "    Rejecting  epoch based on EEG : ['GSR1']\n",
            "Artifact detected in [101120, 101376]\n",
            "    Rejecting  epoch based on EEG : ['GSR1']\n",
            "Artifact detected in [101376, 101632]\n",
            "    Rejecting  epoch based on EEG : ['GSR1']\n",
            "Artifact detected in [101632, 101888]\n",
            "    Rejecting  epoch based on EEG : ['GSR1']\n",
            "Artifact detected in [103680, 103936]\n",
            "    Rejecting  epoch based on EEG : ['GSR1']\n",
            "Artifact detected in [104192, 104448]\n",
            "    Rejecting  epoch based on EEG : ['GSR1']\n",
            "Artifact detected in [104448, 104704]\n",
            "    Rejecting  epoch based on EEG : ['GSR1']\n",
            "Artifact detected in [105984, 106240]\n",
            "    Rejecting  epoch based on EEG : ['GSR1']\n",
            "Artifact detected in [109824, 110080]\n",
            "    Rejecting  epoch based on EEG : ['GSR1']\n",
            "Artifact detected in [110592, 110848]\n",
            "    Rejecting  epoch based on EEG : ['GSR1']\n",
            "Artifact detected in [110848, 111104]\n",
            "    Rejecting  epoch based on EEG : ['GSR1']\n",
            "Artifact detected in [111360, 111616]\n",
            "    Rejecting  epoch based on EEG : ['GSR1']\n",
            "Artifact detected in [115712, 115968]\n",
            "    Rejecting  epoch based on EEG : ['GSR1']\n",
            "Artifact detected in [115968, 116224]\n",
            "    Rejecting  epoch based on EEG : ['GSR1']\n",
            "Artifact detected in [116224, 116480]\n",
            "    Rejecting  epoch based on EEG : ['GSR1']\n",
            "Artifact detected in [116480, 116736]\n",
            "    Rejecting  epoch based on EEG : ['GSR1', 'Status']\n",
            "Artifact detected in [116736, 116992]\n",
            "    Rejecting  epoch based on EEG : ['GSR1', 'Status']\n",
            "Artifact detected in [116992, 117248]\n",
            "    Rejecting  epoch based on EEG : ['GSR1', 'Status']\n",
            "Artifact detected in [117248, 117504]\n",
            "    Rejecting  epoch based on EEG : ['GSR1']\n",
            "Artifact detected in [117504, 117760]\n",
            "    Rejecting  epoch based on EEG : ['GSR1']\n",
            "Artifact detected in [117760, 118016]\n",
            "    Rejecting  epoch based on EEG : ['GSR1']\n",
            "Artifact detected in [118016, 118272]\n",
            "    Rejecting  epoch based on EEG : ['GSR1']\n",
            "Artifact detected in [119040, 119296]\n",
            "    Rejecting  epoch based on EEG : ['GSR1']\n",
            "Artifact detected in [121856, 122112]\n",
            "    Rejecting  epoch based on EEG : ['GSR1']\n",
            "Artifact detected in [122368, 122624]\n",
            "    Rejecting  epoch based on EEG : ['Status']\n",
            "Artifact detected in [123904, 124160]\n",
            "    Rejecting  epoch based on EEG : ['Status']\n",
            "Artifact detected in [124160, 124416]\n",
            "    Rejecting  epoch based on EEG : ['Status']\n",
            "Artifact detected in [127744, 128000]\n",
            "    Rejecting  epoch based on EEG : ['Status']\n",
            "Artifact detected in [128512, 128768]\n",
            "    Rejecting  epoch based on EEG : ['GSR1']\n",
            "Artifact detected in [129536, 129792]\n",
            "    Rejecting  epoch based on EEG : ['Status']\n",
            "Artifact detected in [142848, 143104]\n",
            "    Rejecting  epoch based on EEG : ['Status']\n",
            "Artifact detected in [143104, 143360]\n",
            "    Rejecting  epoch based on EEG : ['Status']\n",
            "Artifact detected in [143360, 143616]\n",
            "    Rejecting  epoch based on EEG : ['GSR1']\n",
            "Artifact detected in [146944, 147200]\n",
            "    Rejecting  epoch based on EEG : ['GSR1']\n",
            "Artifact detected in [156928, 157184]\n",
            "    Rejecting  epoch based on EEG : ['GSR1']\n",
            "Artifact detected in [158976, 159232]\n",
            "    Rejecting  epoch based on EEG : ['Status']\n",
            "Artifact detected in [160256, 160512]\n",
            "    Rejecting  epoch based on EEG : ['GSR1', 'Status']\n",
            "Artifact detected in [160512, 160768]\n",
            "    Rejecting  epoch based on EEG : ['GSR1']\n",
            "Artifact detected in [160768, 161024]\n",
            "    Rejecting  epoch based on EEG : ['GSR1']\n",
            "Artifact detected in [161024, 161280]\n",
            "    Rejecting  epoch based on EEG : ['GSR1']\n",
            "Artifact detected in [161280, 161536]\n",
            "    Rejecting  epoch based on EEG : ['GSR1']\n",
            "Artifact detected in [169472, 169728]\n",
            "    Rejecting  epoch based on EEG : ['GSR1']\n",
            "Artifact detected in [169728, 169984]\n",
            "    Rejecting  epoch based on EEG : ['Status']\n",
            "Artifact detected in [169984, 170240]\n",
            "    Rejecting  epoch based on EEG : ['Status']\n",
            "Artifact detected in [170240, 170496]\n",
            "    Rejecting  epoch based on EEG : ['Status']\n",
            "Artifact detected in [170496, 170752]\n",
            "    Rejecting  epoch based on EEG : ['GSR1']\n",
            "Artifact detected in [171008, 171264]\n",
            "    Rejecting  epoch based on EEG : ['GSR1']\n",
            "Artifact detected in [171776, 172032]\n",
            "    Rejecting  epoch based on EEG : ['GSR1']\n",
            "Artifact detected in [175104, 175360]\n",
            "    Rejecting  epoch based on EEG : ['GSR1']\n",
            "Artifact detected in [176128, 176384]\n",
            "    Rejecting  epoch based on EEG : ['GSR1']\n",
            "Artifact detected in [179968, 180224]\n",
            "    Rejecting  epoch based on EEG : ['GSR1']\n",
            "Artifact detected in [182528, 182784]\n",
            "    Rejecting  epoch based on EEG : ['GSR1']\n",
            "Artifact detected in [183040, 183296]\n",
            "    Rejecting  epoch based on EEG : ['Status']\n",
            "Artifact detected in [191488, 191744]\n",
            "    Rejecting  epoch based on EEG : ['GSR1']\n",
            "Artifact detected in [194560, 194816]\n",
            "    Rejecting  epoch based on EEG : ['GSR1', 'Status']\n",
            "Artifact detected in [203008, 203264]\n",
            "    Rejecting  epoch based on EEG : ['Status']\n",
            "Artifact detected in [203264, 203520]\n",
            "    Rejecting  epoch based on EEG : ['Status']\n",
            "Artifact detected in [203776, 204032]\n",
            "    Rejecting  epoch based on EEG : ['GSR1']\n",
            "Artifact detected in [204032, 204288]\n",
            "    Rejecting  epoch based on EEG : ['GSR1']\n",
            "Artifact detected in [204544, 204800]\n",
            "    Rejecting  epoch based on EEG : ['GSR1']\n",
            "Artifact detected in [205056, 205312]\n",
            "    Rejecting  epoch based on EEG : ['GSR1']\n",
            "Artifact detected in [206848, 207104]\n",
            "    Rejecting  epoch based on EEG : ['GSR1']\n",
            "Artifact detected in [209920, 210176]\n",
            "    Rejecting  epoch based on EEG : ['GSR1']\n",
            "Artifact detected in [210176, 210432]\n",
            "    Rejecting  epoch based on EEG : ['GSR1']\n",
            "Artifact detected in [210688, 210944]\n",
            "    Rejecting  epoch based on EEG : ['GSR1']\n",
            "Artifact detected in [215040, 215296]\n",
            "    Rejecting  epoch based on EEG : ['GSR1']\n",
            "Artifact detected in [216832, 217088]\n",
            "    Rejecting  epoch based on EEG : ['GSR1']\n",
            "Artifact detected in [217088, 217344]\n",
            "    Rejecting  epoch based on EEG : ['GSR1']\n",
            "Artifact detected in [218112, 218368]\n",
            "    Rejecting  epoch based on EEG : ['GSR1']\n",
            "Artifact detected in [219904, 220160]\n",
            "    Rejecting  epoch based on EEG : ['GSR1']\n",
            "Artifact detected in [220672, 220928]\n",
            "    Rejecting  epoch based on EEG : ['GSR1']\n",
            "Artifact detected in [221440, 221696]\n",
            "    Rejecting  epoch based on EEG : ['GSR1']\n",
            "Artifact detected in [221696, 221952]\n",
            "    Rejecting  epoch based on EEG : ['Status']\n",
            "Artifact detected in [221952, 222208]\n",
            "    Rejecting  epoch based on EEG : ['Status']\n",
            "Artifact detected in [222208, 222464]\n",
            "    Rejecting  epoch based on EEG : ['Status']\n",
            "Artifact detected in [222720, 222976]\n",
            "    Rejecting  epoch based on EEG : ['GSR1']\n",
            "Artifact detected in [224256, 224512]\n",
            "    Rejecting  epoch based on EEG : ['GSR1']\n",
            "Artifact detected in [227072, 227328]\n",
            "    Rejecting  epoch based on EEG : ['GSR1']\n",
            "Artifact detected in [227584, 227840]\n",
            "    Rejecting  epoch based on EEG : ['GSR1']\n",
            "Artifact detected in [228352, 228608]\n",
            "    Rejecting  epoch based on EEG : ['GSR1']\n",
            "Artifact detected in [230144, 230400]\n",
            "    Rejecting  epoch based on EEG : ['GSR1']\n",
            "Artifact detected in [230400, 230656]\n",
            "    Rejecting  epoch based on EEG : ['GSR1']\n",
            "Artifact detected in [231680, 231936]\n",
            "    Rejecting  epoch based on EEG : ['GSR1']\n",
            "Artifact detected in [233472, 233728]\n",
            "    Rejecting  epoch based on EEG : ['GSR1']\n",
            "Artifact detected in [233728, 233984]\n",
            "    Rejecting  epoch based on EEG : ['GSR1']\n",
            "Artifact detected in [233984, 234240]\n",
            "    Rejecting  epoch based on EEG : ['GSR1']\n",
            "Artifact detected in [234752, 235008]\n",
            "    Rejecting  epoch based on EEG : ['GSR1']\n",
            "Artifact detected in [235264, 235520]\n",
            "    Rejecting  epoch based on EEG : ['GSR1']\n",
            "Artifact detected in [236288, 236544]\n",
            "    Rejecting  epoch based on EEG : ['GSR1']\n",
            "Artifact detected in [236800, 237056]\n",
            "    Rejecting  epoch based on EEG : ['GSR1']\n",
            "Artifact detected in [237568, 237824]\n",
            "    Rejecting  epoch based on EEG : ['GSR1']\n",
            "Artifact detected in [239360, 239616]\n",
            "    Rejecting  epoch based on EEG : ['Status']\n",
            "Artifact detected in [240896, 241152]\n",
            "    Rejecting  epoch based on EEG : ['GSR1']\n",
            "Artifact detected in [242432, 242688]\n",
            "    Rejecting  epoch based on EEG : ['GSR1']\n",
            "Artifact detected in [247296, 247552]\n",
            "    Rejecting  epoch based on EEG : ['GSR1']\n",
            "Artifact detected in [247552, 247808]\n",
            "    Rejecting  epoch based on EEG : ['GSR1']\n",
            "Artifact detected in [247808, 248064]\n",
            "    Rejecting  epoch based on EEG : ['GSR1']\n",
            "Artifact detected in [248064, 248320]\n",
            "    Rejecting  epoch based on EEG : ['GSR1']\n",
            "Artifact detected in [249600, 249856]\n",
            "    Rejecting  epoch based on EEG : ['GSR1']\n",
            "Artifact detected in [250112, 250368]\n",
            "    Rejecting  epoch based on EEG : ['GSR1']\n",
            "Artifact detected in [250624, 250880]\n",
            "    Rejecting  epoch based on EEG : ['GSR1']\n",
            "Artifact detected in [253184, 253440]\n",
            "    Rejecting  epoch based on EEG : ['GSR1']\n",
            "Artifact detected in [254976, 255232]\n",
            "    Rejecting  epoch based on EEG : ['GSR1']\n",
            "Artifact detected in [255488, 255744]\n",
            "    Rejecting  epoch based on EEG : ['GSR1']\n",
            "Artifact detected in [255744, 256000]\n",
            "    Rejecting  epoch based on EEG : ['GSR1']\n",
            "Artifact detected in [256000, 256256]\n",
            "    Rejecting  epoch based on EEG : ['GSR1']\n",
            "Artifact detected in [256256, 256512]\n",
            "    Rejecting  epoch based on EEG : ['GSR1']\n",
            "Artifact detected in [256512, 256768]\n",
            "    Rejecting  epoch based on EEG : ['GSR1']\n",
            "Artifact detected in [258048, 258304]\n",
            "    Rejecting  epoch based on EEG : ['Status']\n",
            "Artifact detected in [260608, 260864]\n",
            "    Rejecting  epoch based on EEG : ['GSR1']\n",
            "Artifact detected in [261376, 261632]\n",
            "    Rejecting  epoch based on EEG : ['GSR1']\n",
            "Artifact detected in [264192, 264448]\n",
            "    Rejecting  epoch based on EEG : ['GSR1']\n",
            "Artifact detected in [265984, 266240]\n",
            "    Rejecting  epoch based on EEG : ['GSR1']\n",
            "Artifact detected in [266240, 266496]\n",
            "    Rejecting  epoch based on EEG : ['Status']\n",
            "Artifact detected in [267520, 267776]\n",
            "    Rejecting  epoch based on EEG : ['Status']\n",
            "Artifact detected in [267776, 268032]\n",
            "    Rejecting  epoch based on EEG : ['Status']\n",
            "Artifact detected in [268032, 268288]\n",
            "    Rejecting  epoch based on EEG : ['GSR1']\n",
            "Artifact detected in [268544, 268800]\n",
            "    Rejecting  epoch based on EEG : ['GSR1']\n",
            "Artifact detected in [268800, 269056]\n",
            "    Rejecting  epoch based on EEG : ['GSR1']\n",
            "Artifact detected in [269568, 269824]\n",
            "    Rejecting  epoch based on EEG : ['GSR1']\n",
            "Artifact detected in [271360, 271616]\n",
            "    Rejecting  epoch based on EEG : ['GSR1']\n",
            "Artifact detected in [275968, 276224]\n",
            "    Rejecting  epoch based on EEG : ['GSR1']\n",
            "Artifact detected in [281600, 281856]\n",
            "    Rejecting  epoch based on EEG : ['GSR1']\n",
            "Artifact detected in [282112, 282368]\n",
            "    Rejecting  epoch based on EEG : ['GSR1']\n",
            "Artifact detected in [282880, 283136]\n",
            "    Rejecting  epoch based on EEG : ['GSR1']\n",
            "Artifact detected in [283648, 283904]\n",
            "    Rejecting  epoch based on EEG : ['GSR1']\n",
            "Artifact detected in [284160, 284416]\n",
            "    Rejecting  epoch based on EEG : ['GSR1', 'Status']\n",
            "Artifact detected in [286720, 286976]\n",
            "    Rejecting  epoch based on EEG : ['Status']\n",
            "Artifact detected in [286976, 287232]\n",
            "    Rejecting  epoch based on EEG : ['GSR1']\n",
            "Artifact detected in [291840, 292096]\n",
            "    Rejecting  epoch based on EEG : ['GSR1']\n",
            "Artifact detected in [293120, 293376]\n",
            "    Rejecting  epoch based on EEG : ['GSR1']\n",
            "Artifact detected in [293632, 293888]\n",
            "    Rejecting  epoch based on EEG : ['GSR1', 'Status']\n",
            "Artifact detected in [293888, 294144]\n",
            "    Rejecting  epoch based on EEG : ['Status']\n",
            "Artifact detected in [294144, 294400]\n",
            "    Rejecting  epoch based on EEG : ['Status']\n",
            "Artifact detected in [294400, 294656]\n",
            "    Rejecting  epoch based on EEG : ['GSR1']\n",
            "Artifact detected in [294912, 295168]\n",
            "    Rejecting  epoch based on EEG : ['GSR1']\n",
            "Artifact detected in [295168, 295424]\n",
            "    Rejecting  epoch based on EEG : ['GSR1']\n",
            "Artifact detected in [295424, 295680]\n",
            "    Rejecting  epoch based on EEG : ['GSR1']\n",
            "Artifact detected in [295936, 296192]\n",
            "    Rejecting  epoch based on EEG : ['GSR1']\n",
            "Artifact detected in [301824, 302080]\n",
            "    Rejecting  epoch based on EEG : ['GSR1']\n",
            "Artifact detected in [302592, 302848]\n",
            "    Rejecting  epoch based on EEG : ['Status']\n",
            "Artifact detected in [305408, 305664]\n",
            "    Rejecting  epoch based on EEG : ['Status']\n",
            "Artifact detected in [305664, 305920]\n",
            "    Rejecting  epoch based on EEG : ['Status']\n",
            "Artifact detected in [306176, 306432]\n",
            "    Rejecting  epoch based on EEG : ['GSR1']\n",
            "Artifact detected in [306432, 306688]\n",
            "    Rejecting  epoch based on EEG : ['GSR1', 'Status']\n",
            "Artifact detected in [306688, 306944]\n",
            "    Rejecting  epoch based on EEG : ['GSR1']\n",
            "Artifact detected in [306944, 307200]\n",
            "    Rejecting  epoch based on EEG : ['GSR1']\n",
            "Artifact detected in [307456, 307712]\n",
            "    Rejecting  epoch based on EEG : ['GSR1']\n",
            "Artifact detected in [307712, 307968]\n",
            "    Rejecting  epoch based on EEG : ['GSR1']\n",
            "Artifact detected in [308224, 308480]\n",
            "    Rejecting  epoch based on EEG : ['GSR1']\n",
            "Artifact detected in [308480, 308736]\n",
            "    Rejecting  epoch based on EEG : ['GSR1']\n",
            "Artifact detected in [309248, 309504]\n",
            "    Rejecting  epoch based on EEG : ['GSR1']\n",
            "Artifact detected in [312576, 312832]\n",
            "    Rejecting  epoch based on EEG : ['GSR1']\n",
            "Artifact detected in [315904, 316160]\n",
            "    Rejecting  epoch based on EEG : ['GSR1']\n",
            "Artifact detected in [316160, 316416]\n",
            "    Rejecting  epoch based on EEG : ['Status']\n",
            "Artifact detected in [316928, 317184]\n",
            "    Rejecting  epoch based on EEG : ['GSR1']\n",
            "Artifact detected in [329472, 329728]\n",
            "    Rejecting  epoch based on EEG : ['GSR1']\n",
            "Artifact detected in [329984, 330240]\n",
            "    Rejecting  epoch based on EEG : ['Status']\n",
            "Artifact detected in [331264, 331520]\n",
            "    Rejecting  epoch based on EEG : ['Status']\n",
            "Artifact detected in [332032, 332288]\n",
            "    Rejecting  epoch based on EEG : ['GSR1']\n",
            "Artifact detected in [335872, 336128]\n",
            "    Rejecting  epoch based on EEG : ['GSR1']\n",
            "Artifact detected in [336640, 336896]\n",
            "    Rejecting  epoch based on EEG : ['GSR1']\n",
            "Artifact detected in [338176, 338432]\n",
            "    Rejecting  epoch based on EEG : ['GSR1', 'Status']\n",
            "Artifact detected in [338432, 338688]\n",
            "    Rejecting  epoch based on EEG : ['GSR1', 'Status']\n",
            "Artifact detected in [338688, 338944]\n",
            "    Rejecting  epoch based on EEG : ['Status']\n",
            "Artifact detected in [338944, 339200]\n",
            "    Rejecting  epoch based on EEG : ['GSR1']\n",
            "Artifact detected in [342016, 342272]\n",
            "    Rejecting  epoch based on EEG : ['GSR1']\n",
            "Artifact detected in [343552, 343808]\n",
            "Selecting by number: 25 components\n"
          ],
          "name": "stdout"
        },
        {
          "output_type": "stream",
          "text": [
            "<ipython-input-184-717f21045246>:5: RuntimeWarning: Using n_components=25 (resulting in n_components_=25) may lead to an unstable mixing matrix estimation because the ratio between the largest (79) and smallest (1.2e-08) variances is too large (> 1e6); consider setting n_components=0.999999 or an integer <= 4\n",
            "  ica.fit(eeg_data_ref, reject=reject)\n"
          ],
          "name": "stderr"
        },
        {
          "output_type": "stream",
          "text": [
            "Fitting ICA took 23.9s.\n"
          ],
          "name": "stdout"
        },
        {
          "output_type": "execute_result",
          "data": {
            "text/plain": [
              "<ICA | raw data decomposition, fit (fastica): 276480 samples, 25 components, channels used: \"eeg\">"
            ]
          },
          "metadata": {
            "tags": []
          },
          "execution_count": 184
        }
      ]
    },
    {
      "cell_type": "markdown",
      "metadata": {
        "id": "IUfikTAr6boJ"
      },
      "source": [
        "## How data looks like after Artificact rejection using ICA."
      ]
    },
    {
      "cell_type": "code",
      "metadata": {
        "colab": {
          "base_uri": "https://localhost:8080/",
          "height": 368
        },
        "id": "IsfAyB6py8b-",
        "outputId": "f8878dd5-8e1c-4b6d-fed2-d4e20af8e925"
      },
      "source": [
        "ica.plot_overlay(eeg_data_ref);"
      ],
      "execution_count": 186,
      "outputs": [
        {
          "output_type": "stream",
          "text": [
            "Applying ICA to Raw instance\n",
            "    Transforming to ICA space (25 components)\n",
            "    Zeroing out 0 ICA components\n",
            "    Projecting back using 80 PCA components\n"
          ],
          "name": "stdout"
        },
        {
          "output_type": "display_data",
          "data": {
            "image/png": "[encoded data removed]",
            "text/plain": [
              "<Figure size 432x288 with 2 Axes>"
            ]
          },
          "metadata": {
            "tags": [],
            "needs_background": "light"
          }
        }
      ]
    },
    {
      "cell_type": "code",
      "metadata": {
        "id": "VgAputRYy8W4"
      },
      "source": [
        ""
      ],
      "execution_count": null,
      "outputs": []
    }
  ]
}