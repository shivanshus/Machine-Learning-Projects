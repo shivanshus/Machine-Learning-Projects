{
  "nbformat": 4,
  "nbformat_minor": 0,
  "metadata": {
    "kernelspec": {
      "display_name": "Python 3",
      "language": "python",
      "name": "python3"
    },
    "language_info": {
      "codemirror_mode": {
        "name": "ipython",
        "version": 3
      },
      "file_extension": ".py",
      "mimetype": "text/x-python",
      "name": "python",
      "nbconvert_exporter": "python",
      "pygments_lexer": "ipython3",
      "version": "3.7.7"
    },
    "colab": {
      "name": "Loss functions.ipynb",
      "provenance": [],
      "include_colab_link": true
    }
  },
  "cells": [
    {
      "cell_type": "markdown",
      "metadata": {
        "id": "view-in-github",
        "colab_type": "text"
      },
      "source": [
        "<a href=\"https://colab.research.google.com/github/shivanshus/Machine-Learning-Projects/blob/main/Loss_functions.ipynb\" target=\"_parent\"><img src=\"https://colab.research.google.com/assets/colab-badge.svg\" alt=\"Open In Colab\"/></a>"
      ]
    },
    {
      "cell_type": "markdown",
      "metadata": {
        "id": "xNtQLIA0aA68"
      },
      "source": [
        "# Loss functions"
      ]
    },
    {
      "cell_type": "code",
      "metadata": {
        "id": "Cdi-8AoEaA7J"
      },
      "source": [
        "import numpy as np"
      ],
      "execution_count": 1,
      "outputs": []
    },
    {
      "cell_type": "markdown",
      "metadata": {
        "id": "jE4K6-BgajRq"
      },
      "source": [
        "## Huber Loss for regression models."
      ]
    },
    {
      "cell_type": "code",
      "metadata": {
        "id": "bYaT9cnTbIb0"
      },
      "source": [
        "def huber_loss(delta, labels, predictions):\n",
        "    \"\"\"parameters : predictions and labels arrays\n",
        "       return : Huber loss function value\"\"\"\n",
        "    # hyperparameter\n",
        "    delta = delta  \n",
        "    # number of training samples\n",
        "    n = labels.shape[0]  \n",
        "    loss_1 = 0\n",
        "    loss_2 = 0\n",
        "    if np.abs(labels - predictions).all() <= delta:\n",
        "      loss_1 += 0.5 * (np.square(labels - predictions))\n",
        "    else:\n",
        "      loss_2 += delta*np.abs(labels - predictions) - 0.5*np.square(delta)\n",
        "               \n",
        "    loss = (loss_1 + loss_2)/n\n",
        "    \n",
        "    return loss"
      ],
      "execution_count": 5,
      "outputs": []
    },
    {
      "cell_type": "code",
      "metadata": {
        "colab": {
          "base_uri": "https://localhost:8080/"
        },
        "id": "T4bUvxieaA7J",
        "outputId": "9654007d-92c2-4556-aab2-d1bdfccc7569"
      },
      "source": [
        "# randomly selected values for testing the function and computing the value of huber loss function\n",
        "predictions= np.array([3,4,5,6,7])\n",
        "labels = np.array([4,9,9,5,10])\n",
        "\n",
        "huber_loss(0.75, labels, predictions)"
      ],
      "execution_count": 7,
      "outputs": [
        {
          "output_type": "execute_result",
          "data": {
            "text/plain": [
              "array([0.09375, 0.69375, 0.54375, 0.09375, 0.39375])"
            ]
          },
          "metadata": {
            "tags": []
          },
          "execution_count": 7
        }
      ]
    },
    {
      "cell_type": "markdown",
      "metadata": {
        "id": "261r2x5ycinB"
      },
      "source": [
        "## Hinge loss for classification models."
      ]
    },
    {
      "cell_type": "code",
      "metadata": {
        "id": "U9EgGN6MaA7K"
      },
      "source": [
        "def hinge_loss(labels ,predictions):\n",
        "    \"\"\" parameters : predictions and labels arrays\n",
        "        return : Hinge loss\"\"\"\n",
        "    \n",
        "    n = labels.shape[0] # number of training samples\n",
        "    loss = 0\n",
        "    loss += ((1/n) * np.sum(max(0, (1 - labels*predictions).all())))\n",
        "            \n",
        "    return loss"
      ],
      "execution_count": 10,
      "outputs": []
    },
    {
      "cell_type": "code",
      "metadata": {
        "colab": {
          "base_uri": "https://localhost:8080/"
        },
        "id": "P1QKOq7VaA7L",
        "outputId": "9d2af8aa-e4c0-4292-8a32-079e7e7bfb13"
      },
      "source": [
        "predictions = np.array([-0.3,-0.5,6.6,0.2,0.9])\n",
        "labels = np.array([1,-1,-1,1,1])\n",
        "\n",
        "hinge_loss(labels ,predictions)"
      ],
      "execution_count": 11,
      "outputs": [
        {
          "output_type": "execute_result",
          "data": {
            "text/plain": [
              "0.2"
            ]
          },
          "metadata": {
            "tags": []
          },
          "execution_count": 11
        }
      ]
    },
    {
      "cell_type": "markdown",
      "metadata": {
        "id": "WIEKlsEZdGqi"
      },
      "source": [
        "## Cross-entropy loss for classification models."
      ]
    },
    {
      "cell_type": "code",
      "metadata": {
        "id": "kS2unD3XaA7L"
      },
      "source": [
        "def cross_entropy_loss(labels ,predictions):\n",
        "    \"\"\" parameters : predictions and labels arrays\n",
        "        return : cross entropy loss\"\"\"\n",
        "    # number of training samples\n",
        "    n = labels.shape[0] \n",
        "    loss = (-1/n) * (np.sum(labels*np.log(predictions) + (1-labels)*np.log((1-predictions))))\n",
        "         \n",
        "    return loss"
      ],
      "execution_count": 22,
      "outputs": []
    },
    {
      "cell_type": "code",
      "metadata": {
        "colab": {
          "base_uri": "https://localhost:8080/"
        },
        "id": "xAsfLnaHaA7M",
        "outputId": "6a8fd14b-fdb1-40d9-8a6f-bfb159a75094"
      },
      "source": [
        "predictions = np.array([0.2,0.8,0.98,0.7,0.4]) \n",
        "labels = np.array([1,0,0,1,1])\n",
        "print(cross_entropy_loss(labels ,predictions))"
      ],
      "execution_count": 23,
      "outputs": [
        {
          "output_type": "stream",
          "text": [
            "1.6807729012218466\n"
          ],
          "name": "stdout"
        }
      ]
    },
    {
      "cell_type": "code",
      "metadata": {
        "id": "dQ_7sEDpaA7O"
      },
      "source": [
        ""
      ],
      "execution_count": null,
      "outputs": []
    }
  ]
}