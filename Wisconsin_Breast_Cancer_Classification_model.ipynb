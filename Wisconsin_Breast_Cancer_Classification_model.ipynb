{
  "nbformat": 4,
  "nbformat_minor": 0,
  "metadata": {
    "kernelspec": {
      "display_name": "Python 3",
      "language": "python",
      "name": "python3"
    },
    "language_info": {
      "codemirror_mode": {
        "name": "ipython",
        "version": 3
      },
      "file_extension": ".py",
      "mimetype": "text/x-python",
      "name": "python",
      "nbconvert_exporter": "python",
      "pygments_lexer": "ipython3",
      "version": "3.7.7"
    },
    "colab": {
      "name": "Wisconsin Breast Cancer Classification model.ipynb",
      "provenance": [],
      "include_colab_link": true
    }
  },
  "cells": [
    {
      "cell_type": "markdown",
      "metadata": {
        "id": "view-in-github",
        "colab_type": "text"
      },
      "source": [
        "<a href=\"https://colab.research.google.com/github/shivanshus/Machine-Learning-Projects/blob/main/Wisconsin_Breast_Cancer_Classification_model.ipynb\" target=\"_parent\"><img src=\"https://colab.research.google.com/assets/colab-badge.svg\" alt=\"Open In Colab\"/></a>"
      ]
    },
    {
      "cell_type": "markdown",
      "metadata": {
        "id": "y2hkAtKXiigI"
      },
      "source": [
        "# Wisconsin Breast Cancer Classification model"
      ]
    },
    {
      "cell_type": "markdown",
      "metadata": {
        "id": "0PMU_dtditx9"
      },
      "source": [
        "## Import the libraries"
      ]
    },
    {
      "cell_type": "code",
      "metadata": {
        "id": "Gk0RICeLgaRV"
      },
      "source": [
        "import pandas as pd\n",
        "import numpy as np\n",
        "import matplotlib.pyplot as plt\n",
        "%matplotlib inline\n",
        "from sklearn.tree import DecisionTreeClassifier\n",
        "from sklearn.ensemble import RandomForestClassifier, BaggingClassifier\n",
        "from sklearn.model_selection import cross_validate, train_test_split\n",
        "from sklearn.preprocessing import LabelEncoder\n",
        "from sklearn.metrics import accuracy_score, confusion_matrix, f1_score, precision_score, recall_score"
      ],
      "execution_count": 3,
      "outputs": []
    },
    {
      "cell_type": "code",
      "metadata": {
        "colab": {
          "base_uri": "https://localhost:8080/"
        },
        "id": "15NGf_eLiXuJ",
        "outputId": "81ae2890-3db0-4f7f-9b2e-0780eb9f94b9"
      },
      "source": [
        "from google.colab import drive\n",
        "drive.mount('/content/drive')"
      ],
      "execution_count": 1,
      "outputs": [
        {
          "output_type": "stream",
          "text": [
            "Mounted at /content/drive\n"
          ],
          "name": "stdout"
        }
      ]
    },
    {
      "cell_type": "markdown",
      "metadata": {
        "id": "9v28GGEHj_tu"
      },
      "source": [
        "## Exploratory Data Analysis"
      ]
    },
    {
      "cell_type": "code",
      "metadata": {
        "scrolled": true,
        "colab": {
          "base_uri": "https://localhost:8080/",
          "height": 158
        },
        "id": "9Iki96pzgaRe",
        "outputId": "42708c10-1cae-400a-b524-3737f11ce5cd"
      },
      "source": [
        "data = pd.read_csv('/content/drive/MyDrive/cancerdata.csv', header=None)\n",
        "data.head(3)"
      ],
      "execution_count": 4,
      "outputs": [
        {
          "output_type": "execute_result",
          "data": {
            "text/html": [
              "<div>\n",
              "<style scoped>\n",
              "    .dataframe tbody tr th:only-of-type {\n",
              "        vertical-align: middle;\n",
              "    }\n",
              "\n",
              "    .dataframe tbody tr th {\n",
              "        vertical-align: top;\n",
              "    }\n",
              "\n",
              "    .dataframe thead th {\n",
              "        text-align: right;\n",
              "    }\n",
              "</style>\n",
              "<table border=\"1\" class=\"dataframe\">\n",
              "  <thead>\n",
              "    <tr style=\"text-align: right;\">\n",
              "      <th></th>\n",
              "      <th>0</th>\n",
              "      <th>1</th>\n",
              "      <th>2</th>\n",
              "      <th>3</th>\n",
              "      <th>4</th>\n",
              "      <th>5</th>\n",
              "      <th>6</th>\n",
              "      <th>7</th>\n",
              "      <th>8</th>\n",
              "      <th>9</th>\n",
              "      <th>10</th>\n",
              "      <th>11</th>\n",
              "      <th>12</th>\n",
              "      <th>13</th>\n",
              "      <th>14</th>\n",
              "      <th>15</th>\n",
              "      <th>16</th>\n",
              "      <th>17</th>\n",
              "      <th>18</th>\n",
              "      <th>19</th>\n",
              "      <th>20</th>\n",
              "      <th>21</th>\n",
              "      <th>22</th>\n",
              "      <th>23</th>\n",
              "      <th>24</th>\n",
              "      <th>25</th>\n",
              "      <th>26</th>\n",
              "      <th>27</th>\n",
              "      <th>28</th>\n",
              "      <th>29</th>\n",
              "      <th>30</th>\n",
              "      <th>31</th>\n",
              "    </tr>\n",
              "  </thead>\n",
              "  <tbody>\n",
              "    <tr>\n",
              "      <th>0</th>\n",
              "      <td>842302</td>\n",
              "      <td>M</td>\n",
              "      <td>17.99</td>\n",
              "      <td>10.38</td>\n",
              "      <td>122.8</td>\n",
              "      <td>1001.0</td>\n",
              "      <td>0.11840</td>\n",
              "      <td>0.27760</td>\n",
              "      <td>0.3001</td>\n",
              "      <td>0.14710</td>\n",
              "      <td>0.2419</td>\n",
              "      <td>0.07871</td>\n",
              "      <td>1.0950</td>\n",
              "      <td>0.9053</td>\n",
              "      <td>8.589</td>\n",
              "      <td>153.40</td>\n",
              "      <td>0.006399</td>\n",
              "      <td>0.04904</td>\n",
              "      <td>0.05373</td>\n",
              "      <td>0.01587</td>\n",
              "      <td>0.03003</td>\n",
              "      <td>0.006193</td>\n",
              "      <td>25.38</td>\n",
              "      <td>17.33</td>\n",
              "      <td>184.6</td>\n",
              "      <td>2019.0</td>\n",
              "      <td>0.1622</td>\n",
              "      <td>0.6656</td>\n",
              "      <td>0.7119</td>\n",
              "      <td>0.2654</td>\n",
              "      <td>0.4601</td>\n",
              "      <td>0.11890</td>\n",
              "    </tr>\n",
              "    <tr>\n",
              "      <th>1</th>\n",
              "      <td>842517</td>\n",
              "      <td>M</td>\n",
              "      <td>20.57</td>\n",
              "      <td>17.77</td>\n",
              "      <td>132.9</td>\n",
              "      <td>1326.0</td>\n",
              "      <td>0.08474</td>\n",
              "      <td>0.07864</td>\n",
              "      <td>0.0869</td>\n",
              "      <td>0.07017</td>\n",
              "      <td>0.1812</td>\n",
              "      <td>0.05667</td>\n",
              "      <td>0.5435</td>\n",
              "      <td>0.7339</td>\n",
              "      <td>3.398</td>\n",
              "      <td>74.08</td>\n",
              "      <td>0.005225</td>\n",
              "      <td>0.01308</td>\n",
              "      <td>0.01860</td>\n",
              "      <td>0.01340</td>\n",
              "      <td>0.01389</td>\n",
              "      <td>0.003532</td>\n",
              "      <td>24.99</td>\n",
              "      <td>23.41</td>\n",
              "      <td>158.8</td>\n",
              "      <td>1956.0</td>\n",
              "      <td>0.1238</td>\n",
              "      <td>0.1866</td>\n",
              "      <td>0.2416</td>\n",
              "      <td>0.1860</td>\n",
              "      <td>0.2750</td>\n",
              "      <td>0.08902</td>\n",
              "    </tr>\n",
              "    <tr>\n",
              "      <th>2</th>\n",
              "      <td>84300903</td>\n",
              "      <td>M</td>\n",
              "      <td>19.69</td>\n",
              "      <td>21.25</td>\n",
              "      <td>130.0</td>\n",
              "      <td>1203.0</td>\n",
              "      <td>0.10960</td>\n",
              "      <td>0.15990</td>\n",
              "      <td>0.1974</td>\n",
              "      <td>0.12790</td>\n",
              "      <td>0.2069</td>\n",
              "      <td>0.05999</td>\n",
              "      <td>0.7456</td>\n",
              "      <td>0.7869</td>\n",
              "      <td>4.585</td>\n",
              "      <td>94.03</td>\n",
              "      <td>0.006150</td>\n",
              "      <td>0.04006</td>\n",
              "      <td>0.03832</td>\n",
              "      <td>0.02058</td>\n",
              "      <td>0.02250</td>\n",
              "      <td>0.004571</td>\n",
              "      <td>23.57</td>\n",
              "      <td>25.53</td>\n",
              "      <td>152.5</td>\n",
              "      <td>1709.0</td>\n",
              "      <td>0.1444</td>\n",
              "      <td>0.4245</td>\n",
              "      <td>0.4504</td>\n",
              "      <td>0.2430</td>\n",
              "      <td>0.3613</td>\n",
              "      <td>0.08758</td>\n",
              "    </tr>\n",
              "  </tbody>\n",
              "</table>\n",
              "</div>"
            ],
            "text/plain": [
              "         0  1      2      3      4   ...      27      28      29      30       31\n",
              "0    842302  M  17.99  10.38  122.8  ...  0.6656  0.7119  0.2654  0.4601  0.11890\n",
              "1    842517  M  20.57  17.77  132.9  ...  0.1866  0.2416  0.1860  0.2750  0.08902\n",
              "2  84300903  M  19.69  21.25  130.0  ...  0.4245  0.4504  0.2430  0.3613  0.08758\n",
              "\n",
              "[3 rows x 32 columns]"
            ]
          },
          "metadata": {
            "tags": []
          },
          "execution_count": 4
        }
      ]
    },
    {
      "cell_type": "code",
      "metadata": {
        "scrolled": true,
        "id": "KkbIz-HkgaRi",
        "outputId": "c2321a88-67a2-450b-d057-58d0ae6cd1bc"
      },
      "source": [
        "data.info()"
      ],
      "execution_count": null,
      "outputs": [
        {
          "output_type": "stream",
          "text": [
            "<class 'pandas.core.frame.DataFrame'>\n",
            "RangeIndex: 569 entries, 0 to 568\n",
            "Data columns (total 32 columns):\n",
            " #   Column  Non-Null Count  Dtype  \n",
            "---  ------  --------------  -----  \n",
            " 0   0       569 non-null    int64  \n",
            " 1   1       569 non-null    object \n",
            " 2   2       569 non-null    float64\n",
            " 3   3       569 non-null    float64\n",
            " 4   4       569 non-null    float64\n",
            " 5   5       569 non-null    float64\n",
            " 6   6       569 non-null    float64\n",
            " 7   7       569 non-null    float64\n",
            " 8   8       569 non-null    float64\n",
            " 9   9       569 non-null    float64\n",
            " 10  10      569 non-null    float64\n",
            " 11  11      569 non-null    float64\n",
            " 12  12      569 non-null    float64\n",
            " 13  13      569 non-null    float64\n",
            " 14  14      569 non-null    float64\n",
            " 15  15      569 non-null    float64\n",
            " 16  16      569 non-null    float64\n",
            " 17  17      569 non-null    float64\n",
            " 18  18      569 non-null    float64\n",
            " 19  19      569 non-null    float64\n",
            " 20  20      569 non-null    float64\n",
            " 21  21      569 non-null    float64\n",
            " 22  22      569 non-null    float64\n",
            " 23  23      569 non-null    float64\n",
            " 24  24      569 non-null    float64\n",
            " 25  25      569 non-null    float64\n",
            " 26  26      569 non-null    float64\n",
            " 27  27      569 non-null    float64\n",
            " 28  28      569 non-null    float64\n",
            " 29  29      569 non-null    float64\n",
            " 30  30      569 non-null    float64\n",
            " 31  31      569 non-null    float64\n",
            "dtypes: float64(30), int64(1), object(1)\n",
            "memory usage: 142.4+ KB\n"
          ],
          "name": "stdout"
        }
      ]
    },
    {
      "cell_type": "code",
      "metadata": {
        "colab": {
          "base_uri": "https://localhost:8080/"
        },
        "id": "kHr1GFgDgaRk",
        "outputId": "e5f5cea5-8c28-4adc-c684-1233b1e8eb61"
      },
      "source": [
        "data.isnull().sum()"
      ],
      "execution_count": 5,
      "outputs": [
        {
          "output_type": "execute_result",
          "data": {
            "text/plain": [
              "0     0\n",
              "1     0\n",
              "2     0\n",
              "3     0\n",
              "4     0\n",
              "5     0\n",
              "6     0\n",
              "7     0\n",
              "8     0\n",
              "9     0\n",
              "10    0\n",
              "11    0\n",
              "12    0\n",
              "13    0\n",
              "14    0\n",
              "15    0\n",
              "16    0\n",
              "17    0\n",
              "18    0\n",
              "19    0\n",
              "20    0\n",
              "21    0\n",
              "22    0\n",
              "23    0\n",
              "24    0\n",
              "25    0\n",
              "26    0\n",
              "27    0\n",
              "28    0\n",
              "29    0\n",
              "30    0\n",
              "31    0\n",
              "dtype: int64"
            ]
          },
          "metadata": {
            "tags": []
          },
          "execution_count": 5
        }
      ]
    },
    {
      "cell_type": "code",
      "metadata": {
        "colab": {
          "base_uri": "https://localhost:8080/"
        },
        "id": "IrT3DtsskHWX",
        "outputId": "e71ae443-8082-4e27-edf7-5ea1e1973bd4"
      },
      "source": [
        "data.isna().sum()"
      ],
      "execution_count": 6,
      "outputs": [
        {
          "output_type": "execute_result",
          "data": {
            "text/plain": [
              "0     0\n",
              "1     0\n",
              "2     0\n",
              "3     0\n",
              "4     0\n",
              "5     0\n",
              "6     0\n",
              "7     0\n",
              "8     0\n",
              "9     0\n",
              "10    0\n",
              "11    0\n",
              "12    0\n",
              "13    0\n",
              "14    0\n",
              "15    0\n",
              "16    0\n",
              "17    0\n",
              "18    0\n",
              "19    0\n",
              "20    0\n",
              "21    0\n",
              "22    0\n",
              "23    0\n",
              "24    0\n",
              "25    0\n",
              "26    0\n",
              "27    0\n",
              "28    0\n",
              "29    0\n",
              "30    0\n",
              "31    0\n",
              "dtype: int64"
            ]
          },
          "metadata": {
            "tags": []
          },
          "execution_count": 6
        }
      ]
    },
    {
      "cell_type": "code",
      "metadata": {
        "scrolled": false,
        "colab": {
          "base_uri": "https://localhost:8080/"
        },
        "id": "IsUhibkcgaRm",
        "outputId": "87a2a553-cc7b-44df-e0ca-d1101a7efb75"
      },
      "source": [
        "print(data.columns)"
      ],
      "execution_count": 7,
      "outputs": [
        {
          "output_type": "stream",
          "text": [
            "Int64Index([ 0,  1,  2,  3,  4,  5,  6,  7,  8,  9, 10, 11, 12, 13, 14, 15, 16,\n",
            "            17, 18, 19, 20, 21, 22, 23, 24, 25, 26, 27, 28, 29, 30, 31],\n",
            "           dtype='int64')\n"
          ],
          "name": "stdout"
        }
      ]
    },
    {
      "cell_type": "code",
      "metadata": {
        "id": "OUzsZ6pFgaRp"
      },
      "source": [
        "x = data[[2,  3,  4,  5,  6,  7,  8,  9, 10, 11, 12, 13, 14, 15, 16,\n",
        "            17, 18, 19, 20, 21, 22, 23, 24, 25, 26, 27, 28, 29, 30, 31]]\n",
        "y = data[[1]]"
      ],
      "execution_count": 8,
      "outputs": []
    },
    {
      "cell_type": "code",
      "metadata": {
        "colab": {
          "base_uri": "https://localhost:8080/"
        },
        "id": "TKnKbrLMgaRq",
        "outputId": "22dc98ee-1660-4c76-b717-7516deaaa9bd"
      },
      "source": [
        "le_y = LabelEncoder()\n",
        "y = le_y.fit_transform(y)"
      ],
      "execution_count": 9,
      "outputs": [
        {
          "output_type": "stream",
          "text": [
            "/usr/local/lib/python3.6/dist-packages/sklearn/preprocessing/_label.py:251: DataConversionWarning: A column-vector y was passed when a 1d array was expected. Please change the shape of y to (n_samples, ), for example using ravel().\n",
            "  y = column_or_1d(y, warn=True)\n"
          ],
          "name": "stderr"
        }
      ]
    },
    {
      "cell_type": "code",
      "metadata": {
        "id": "n10Zk7bbgaRs"
      },
      "source": [
        "train_x, testval_x, train_y, testval_y = train_test_split(x, y, test_size=0.1, random_state=None, shuffle=True)\n",
        "val_x, test_x, val_y, test_y = train_test_split(testval_x, testval_y, test_size=0.5, random_state=None, shuffle=True)"
      ],
      "execution_count": 23,
      "outputs": []
    },
    {
      "cell_type": "markdown",
      "metadata": {
        "id": "0PkHj7IDk8pX"
      },
      "source": [
        "## Modeling the data to predict whether a given datapoint corresponds to benign or malignant class."
      ]
    },
    {
      "cell_type": "markdown",
      "metadata": {
        "id": "um-UGxiTgaRt"
      },
      "source": [
        "# Decision Tree classifier"
      ]
    },
    {
      "cell_type": "markdown",
      "metadata": {
        "id": "GHZWUE2mlY4H"
      },
      "source": [
        ""
      ]
    },
    {
      "cell_type": "markdown",
      "metadata": {
        "id": "Dl-IxFkelXvV"
      },
      "source": [
        "### Using the validation data set to find the optimized hyperparameters."
      ]
    },
    {
      "cell_type": "markdown",
      "metadata": {
        "id": "l_QEf_cjlyAu"
      },
      "source": [
        "### Plotting max_features(x) vs CV=5 accuracy(y) for DecisionTree"
      ]
    },
    {
      "cell_type": "code",
      "metadata": {
        "colab": {
          "base_uri": "https://localhost:8080/",
          "height": 296
        },
        "id": "OGrTNQV_gaRw",
        "outputId": "0bc2ed43-e742-44bf-9269-e303ae8b3686"
      },
      "source": [
        "cv_acc_dt_maxf = []\n",
        "\n",
        "for i in range(1,31,1):\n",
        "    \n",
        "    dt = DecisionTreeClassifier(criterion='entropy', max_features=i)\n",
        "    cv_acc_dt = cross_validate(dt, val_x, val_y.ravel(), cv=5)\n",
        "    cv_acc_dt_maxf.append(np.mean(cv_acc_dt['test_score']))\n",
        "\n",
        "plt.plot(range(1,31,1),cv_acc_dt_maxf)\n",
        "plt.ylabel('CV5 Accuracy')\n",
        "plt.xlabel('max_features')\n",
        "plt.title('max_features(x) vs CV=5 accuracy(y) for DecisionTree')\n",
        "plt.show()"
      ],
      "execution_count": 24,
      "outputs": [
        {
          "output_type": "display_data",
          "data": {
            "image/png": "[encoded data removed]",
            "text/plain": [
              "<Figure size 432x288 with 1 Axes>"
            ]
          },
          "metadata": {
            "tags": [],
            "needs_background": "light"
          }
        }
      ]
    },
    {
      "cell_type": "markdown",
      "metadata": {
        "id": "J_PS773LnBLd"
      },
      "source": [
        "### Plotting max_depth(x) vs CV=5 accuracy(y) for DecisionTree"
      ]
    },
    {
      "cell_type": "code",
      "metadata": {
        "colab": {
          "base_uri": "https://localhost:8080/",
          "height": 296
        },
        "id": "pm3xBhhVmmMC",
        "outputId": "11e62964-b023-46a3-cd9d-78b4c0a198c2"
      },
      "source": [
        "cv_acc_dt_maxd = []\n",
        "\n",
        "for i in range(1,25,1):\n",
        "    \n",
        "    dt = DecisionTreeClassifier(criterion='entropy', max_depth=i)\n",
        "    cv_acc_dt = cross_validate(dt, val_x, val_y.ravel(), cv=5)\n",
        "    cv_acc_dt_maxd.append(np.mean(cv_acc_dt['test_score']))\n",
        "\n",
        "plt.plot(range(1,25,1),cv_acc_dt_maxd)\n",
        "plt.ylabel('CV5 Accuracy')\n",
        "plt.xlabel('max_depth')\n",
        "plt.title('max_depth(x) vs CV=5 accuracy(y) for DecisionTree')\n",
        "plt.show()"
      ],
      "execution_count": 25,
      "outputs": [
        {
          "output_type": "display_data",
          "data": {
            "image/png": "[encoded data removed]",
            "text/plain": [
              "<Figure size 432x288 with 1 Axes>"
            ]
          },
          "metadata": {
            "tags": [],
            "needs_background": "light"
          }
        }
      ]
    },
    {
      "cell_type": "markdown",
      "metadata": {
        "id": "4fkj6PKnnFKO"
      },
      "source": [
        "### So, max_features=10, max_depth=15 for Decision tree classifier."
      ]
    },
    {
      "cell_type": "markdown",
      "metadata": {
        "id": "3t0ht_0LgaR2"
      },
      "source": [
        "### Plot n_estimators(x) vs CV=5 accuracy(y) for RandomForest"
      ]
    },
    {
      "cell_type": "code",
      "metadata": {
        "colab": {
          "base_uri": "https://localhost:8080/",
          "height": 296
        },
        "id": "AO_rqA-5gaR3",
        "outputId": "0f60b924-787c-4138-deca-8536afe54b17"
      },
      "source": [
        "cv_acc_rf_nest = []\n",
        "\n",
        "for i in range(1,200,5):\n",
        "    \n",
        "    rf = RandomForestClassifier(n_estimators=i, criterion='entropy')\n",
        "    cv_acc_rf = cross_validate(rf, val_x, val_y.ravel(), cv=5)\n",
        "    cv_acc_rf_nest.append(np.mean(cv_acc_rf['test_score']))\n",
        "\n",
        "plt.plot(range(1,200,5),cv_acc_rf_nest)\n",
        "plt.ylabel('CV5 Accuracy')\n",
        "plt.xlabel('n_estimators')\n",
        "plt.title('n_estimators(x) vs CV=5 accuracy(y) for RandomForest')\n",
        "plt.show()"
      ],
      "execution_count": 26,
      "outputs": [
        {
          "output_type": "display_data",
          "data": {
            "image/png": "[encoded data removed]",
            "text/plain": [
              "<Figure size 432x288 with 1 Axes>"
            ]
          },
          "metadata": {
            "tags": [],
            "needs_background": "light"
          }
        }
      ]
    },
    {
      "cell_type": "markdown",
      "metadata": {
        "id": "Iw0spQIngaR5"
      },
      "source": [
        "### Plot max_features(x) vs CV=5 accuracy(y) for RandomForest"
      ]
    },
    {
      "cell_type": "code",
      "metadata": {
        "colab": {
          "base_uri": "https://localhost:8080/",
          "height": 296
        },
        "id": "99xZ-pPHgaR6",
        "outputId": "a6b594f5-cef7-4bb9-e21c-9222e1df2ea8"
      },
      "source": [
        "cv_acc_rf_maxf = []\n",
        "\n",
        "for i in range(1,31,1):\n",
        "    \n",
        "    rf = RandomForestClassifier(criterion='entropy', max_features=i)\n",
        "    cv_acc_rf = cross_validate(rf, val_x, val_y.ravel(),cv=5)\n",
        "    cv_acc_rf_maxf.append(np.mean(cv_acc_rf['test_score']))\n",
        "\n",
        "plt.plot(range(1,31,1),cv_acc_rf_maxf)\n",
        "plt.ylabel('CV5 Accuracy')\n",
        "plt.xlabel('max_features')\n",
        "plt.title('max_features(x) vs CV=5 accuracy(y) for RandomForest')\n",
        "plt.show()"
      ],
      "execution_count": 27,
      "outputs": [
        {
          "output_type": "display_data",
          "data": {
            "image/png": "[encoded data removed]",
            "text/plain": [
              "<Figure size 432x288 with 1 Axes>"
            ]
          },
          "metadata": {
            "tags": [],
            "needs_background": "light"
          }
        }
      ]
    },
    {
      "cell_type": "markdown",
      "metadata": {
        "id": "yYim_xjrnjXi"
      },
      "source": [
        "### n_estimators = 20, max_features = 10 for Random forest classifier."
      ]
    },
    {
      "cell_type": "markdown",
      "metadata": {
        "id": "fqDEAoD8nft_"
      },
      "source": [
        ""
      ]
    },
    {
      "cell_type": "markdown",
      "metadata": {
        "id": "K1j6RYirgaR8"
      },
      "source": [
        "### Building RandomForest model on best computed hyperparameters to predict whether a given datapoint corresponds to benign or malignant class of the breast cancer.\n",
        "#### n_estimators = 20 , max_features = 10"
      ]
    },
    {
      "cell_type": "code",
      "metadata": {
        "id": "oqsXtHuegaR9"
      },
      "source": [
        "rf = RandomForestClassifier(n_estimators=30, criterion='entropy',max_features=10)"
      ],
      "execution_count": 31,
      "outputs": []
    },
    {
      "cell_type": "code",
      "metadata": {
        "colab": {
          "base_uri": "https://localhost:8080/"
        },
        "id": "C3sa1gLNgaR-",
        "outputId": "40521584-f602-4104-ef7d-350abfc812bc"
      },
      "source": [
        "rf.fit(train_x, train_y)"
      ],
      "execution_count": 32,
      "outputs": [
        {
          "output_type": "execute_result",
          "data": {
            "text/plain": [
              "RandomForestClassifier(bootstrap=True, ccp_alpha=0.0, class_weight=None,\n",
              "                       criterion='entropy', max_depth=None, max_features=10,\n",
              "                       max_leaf_nodes=None, max_samples=None,\n",
              "                       min_impurity_decrease=0.0, min_impurity_split=None,\n",
              "                       min_samples_leaf=1, min_samples_split=2,\n",
              "                       min_weight_fraction_leaf=0.0, n_estimators=30,\n",
              "                       n_jobs=None, oob_score=False, random_state=None,\n",
              "                       verbose=0, warm_start=False)"
            ]
          },
          "metadata": {
            "tags": []
          },
          "execution_count": 32
        }
      ]
    },
    {
      "cell_type": "code",
      "metadata": {
        "id": "DEjkBOtQgaR_"
      },
      "source": [
        "pred_y = rf.predict(test_x)"
      ],
      "execution_count": 33,
      "outputs": []
    },
    {
      "cell_type": "code",
      "metadata": {
        "colab": {
          "base_uri": "https://localhost:8080/"
        },
        "id": "NeGvMBmKpGjn",
        "outputId": "74c5444b-cdb0-4df4-a828-c78ca25ea8a0"
      },
      "source": [
        "print(\"accuracy = \", accuracy_score(test_y, pred_y))\n",
        "print(\"F-score = \", f1_score(test_y, pred_y, average='weighted'))\n",
        "print(\"Precision = \", precision_score(test_y, pred_y, average='weighted'))\n",
        "print(\"Recall = \", recall_score(test_y, pred_y, average='weighted'))"
      ],
      "execution_count": 36,
      "outputs": [
        {
          "output_type": "stream",
          "text": [
            "accuracy =  0.9655172413793104\n",
            "F-score =  0.966110918715678\n",
            "Precision =  0.9693486590038314\n",
            "Recall =  0.9655172413793104\n"
          ],
          "name": "stdout"
        }
      ]
    },
    {
      "cell_type": "code",
      "metadata": {
        "colab": {
          "base_uri": "https://localhost:8080/"
        },
        "id": "NTEbttj1gaSC",
        "outputId": "c77d07f3-c57e-4be3-fc8d-fdb58aca7529"
      },
      "source": [
        "print(confusion_matrix(test_y, pred_y))"
      ],
      "execution_count": 37,
      "outputs": [
        {
          "output_type": "stream",
          "text": [
            "[[20  1]\n",
            " [ 0  8]]\n"
          ],
          "name": "stdout"
        }
      ]
    },
    {
      "cell_type": "markdown",
      "metadata": {
        "id": "qY2LR9vrgaSJ"
      },
      "source": [
        "### Building DecisionTree model for best computer hyperparameters to predict whether a given datapoint corresponds to benign or malignant class\n",
        "#### ma_depth = 10 , max_features = 15"
      ]
    },
    {
      "cell_type": "code",
      "metadata": {
        "id": "V-pH3pP5gaSK"
      },
      "source": [
        "dt = DecisionTreeClassifier(criterion='entropy', max_depth=10, max_features=15)"
      ],
      "execution_count": 38,
      "outputs": []
    },
    {
      "cell_type": "code",
      "metadata": {
        "colab": {
          "base_uri": "https://localhost:8080/"
        },
        "id": "mXK8XlsCgaSL",
        "outputId": "0849f9d1-12e9-4530-aafe-b85e8f310579"
      },
      "source": [
        "dt.fit(train_x, train_y)"
      ],
      "execution_count": 39,
      "outputs": [
        {
          "output_type": "execute_result",
          "data": {
            "text/plain": [
              "DecisionTreeClassifier(ccp_alpha=0.0, class_weight=None, criterion='entropy',\n",
              "                       max_depth=10, max_features=15, max_leaf_nodes=None,\n",
              "                       min_impurity_decrease=0.0, min_impurity_split=None,\n",
              "                       min_samples_leaf=1, min_samples_split=2,\n",
              "                       min_weight_fraction_leaf=0.0, presort='deprecated',\n",
              "                       random_state=None, splitter='best')"
            ]
          },
          "metadata": {
            "tags": []
          },
          "execution_count": 39
        }
      ]
    },
    {
      "cell_type": "code",
      "metadata": {
        "id": "RjB4XwwUgaSM"
      },
      "source": [
        "pred_y = dt.predict(test_x)"
      ],
      "execution_count": 40,
      "outputs": []
    },
    {
      "cell_type": "code",
      "metadata": {
        "colab": {
          "base_uri": "https://localhost:8080/"
        },
        "id": "hiR8Ysc1pehf",
        "outputId": "5c2af743-8f5a-4227-8d95-9e13175c44bd"
      },
      "source": [
        "print(\"accuracy = \", accuracy_score(test_y, pred_y))\n",
        "print(\"F-score = \", f1_score(test_y, pred_y, average='weighted'))\n",
        "print(\"Precision = \", precision_score(test_y, pred_y, average='weighted'))\n",
        "print(\"Recall = \", recall_score(test_y, pred_y, average='weighted'))"
      ],
      "execution_count": 42,
      "outputs": [
        {
          "output_type": "stream",
          "text": [
            "accuracy =  0.8620689655172413\n",
            "F-score =  0.8662835249042146\n",
            "Precision =  0.8791288566243194\n",
            "Recall =  0.8620689655172413\n"
          ],
          "name": "stdout"
        }
      ]
    },
    {
      "cell_type": "code",
      "metadata": {
        "scrolled": true,
        "colab": {
          "base_uri": "https://localhost:8080/"
        },
        "id": "8eZ39oD3gaSP",
        "outputId": "bdfbfa95-2e04-46b7-e6af-22b741669c8b"
      },
      "source": [
        "print(confusion_matrix(test_y, pred_y))"
      ],
      "execution_count": 43,
      "outputs": [
        {
          "output_type": "stream",
          "text": [
            "[[18  3]\n",
            " [ 1  7]]\n"
          ],
          "name": "stdout"
        }
      ]
    },
    {
      "cell_type": "markdown",
      "metadata": {
        "id": "vkhsslqzgaSR"
      },
      "source": [
        "## Conclusion"
      ]
    },
    {
      "cell_type": "markdown",
      "metadata": {
        "id": "E18lARXmgaSR"
      },
      "source": [
        "## Model's performance comparison\n",
        "\n",
        "### Accuracy for DecisionTree Model =  0.86\n",
        "### F1-score for DecisionTree Model =  0.86\n",
        "\n",
        "\n",
        "### Accuracy for RandomForest Model =  0.96\n",
        "### F1-score for RandomForest Model =  0.96"
      ]
    },
    {
      "cell_type": "markdown",
      "metadata": {
        "id": "LWoKbQxcgaST"
      },
      "source": [
        "## So, Random forest model, which is essentially the instantiation of the Bagging classifier with decision tree as the base estimator, is a better model for the task of breast cancer detection application in the above implementation."
      ]
    },
    {
      "cell_type": "code",
      "metadata": {
        "id": "a8GdpzcngaSU"
      },
      "source": [
        ""
      ],
      "execution_count": null,
      "outputs": []
    }
  ]
}